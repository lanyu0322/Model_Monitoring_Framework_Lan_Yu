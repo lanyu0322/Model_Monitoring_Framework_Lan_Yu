{
  "cells": [
    {
      "cell_type": "markdown",
      "metadata": {
        "id": "view-in-github",
        "colab_type": "text"
      },
      "source": [
        "<a href=\"https://colab.research.google.com/github/lanyu0322/Model_Monitoring_Framework_Lan_Yu/blob/main/Model_Monitoring_Framework_Lan_Yu.ipynb\" target=\"_parent\"><img src=\"https://colab.research.google.com/assets/colab-badge.svg\" alt=\"Open In Colab\"/></a>"
      ]
    },
    {
      "cell_type": "code",
      "execution_count": 16,
      "metadata": {
        "id": "7OEup8cnh2Gb"
      },
      "outputs": [],
      "source": [
        "# Standard Libraries\n",
        "import os\n",
        "import time\n",
        "import random\n",
        "import pickle\n",
        "import warnings\n",
        "import psutil\n",
        "# Data Manipulation and Analysis\n",
        "import pandas as pd\n",
        "import numpy as np\n",
        "\n",
        "# Data Visualization\n",
        "import matplotlib.pyplot as plt\n",
        "import seaborn as sns\n",
        "\n",
        "# Machine Learning Models and Preprocessing\n",
        "from sklearn.linear_model import LogisticRegression\n",
        "from sklearn.ensemble import RandomForestClassifier, GradientBoostingClassifier\n",
        "from sklearn.preprocessing import StandardScaler\n",
        "# Model Evaluation and Metrics\n",
        "from sklearn.metrics import (\n",
        "    accuracy_score,\n",
        "    precision_score,\n",
        "    recall_score,\n",
        "    f1_score,\n",
        "    roc_auc_score,\n",
        "    roc_curve,\n",
        "    auc,\n",
        "    classification_report,\n",
        "    confusion_matrix\n",
        "\n",
        ")\n",
        "from sklearn.inspection import permutation_importance\n",
        "from scipy.stats import ks_2samp\n",
        "\n",
        "# Model Selection and Tuning\n",
        "from sklearn.model_selection import (\n",
        "    train_test_split,\n",
        "    GridSearchCV,\n",
        "    RandomizedSearchCV,\n",
        "    learning_curve\n",
        ")\n",
        "\n",
        "# Handling Imbalanced Data\n",
        "from imblearn.over_sampling import RandomOverSampler\n",
        "\n",
        "# Model Persistence\n",
        "from joblib import dump, load"
      ]
    },
    {
      "cell_type": "markdown",
      "metadata": {
        "id": "3xlOAUqyHY_q"
      },
      "source": [
        "# Data Pre-processing"
      ]
    },
    {
      "cell_type": "code",
      "execution_count": null,
      "metadata": {
        "id": "LNfYPLxrr7-P"
      },
      "outputs": [],
      "source": [
        "# load the data\n",
        "colname = ['var1', 'var2', 'var3', 'var4', 'var5', 'var6', 'var7', 'var8','dep']\n",
        "df = pd.read_csv('https://raw.githubusercontent.com/jbrownlee/Datasets/master/pima-indians-diabetes.data.csv',\n",
        "                 names=colname)"
      ]
    },
    {
      "cell_type": "code",
      "execution_count": null,
      "metadata": {
        "colab": {
          "base_uri": "https://localhost:8080/"
        },
        "id": "_U7o_1IQr-p9",
        "outputId": "29bfab52-ff32-4eea-8916-3755dfe5571f"
      },
      "outputs": [
        {
          "output_type": "stream",
          "name": "stdout",
          "text": [
            "<class 'pandas.core.frame.DataFrame'>\n",
            "RangeIndex: 768 entries, 0 to 767\n",
            "Data columns (total 9 columns):\n",
            " #   Column  Non-Null Count  Dtype  \n",
            "---  ------  --------------  -----  \n",
            " 0   var1    768 non-null    int64  \n",
            " 1   var2    768 non-null    int64  \n",
            " 2   var3    768 non-null    int64  \n",
            " 3   var4    768 non-null    int64  \n",
            " 4   var5    768 non-null    int64  \n",
            " 5   var6    768 non-null    float64\n",
            " 6   var7    768 non-null    float64\n",
            " 7   var8    768 non-null    int64  \n",
            " 8   dep     768 non-null    int64  \n",
            "dtypes: float64(2), int64(7)\n",
            "memory usage: 54.1 KB\n"
          ]
        }
      ],
      "source": [
        "df.info()"
      ]
    },
    {
      "cell_type": "code",
      "execution_count": null,
      "metadata": {
        "colab": {
          "base_uri": "https://localhost:8080/"
        },
        "id": "ynJCPoeHsB4q",
        "outputId": "f7874a88-ac13-49c8-b40a-8cf8e79c75c8"
      },
      "outputs": [
        {
          "output_type": "execute_result",
          "data": {
            "text/plain": [
              "(768, 9)"
            ]
          },
          "metadata": {},
          "execution_count": 4
        }
      ],
      "source": [
        "df.shape"
      ]
    },
    {
      "cell_type": "code",
      "execution_count": null,
      "metadata": {
        "colab": {
          "base_uri": "https://localhost:8080/",
          "height": 206
        },
        "id": "1j5s1tqQs2Q8",
        "outputId": "748716a8-8d1f-4811-aa03-ea34033874ab"
      },
      "outputs": [
        {
          "output_type": "execute_result",
          "data": {
            "text/plain": [
              "   var1  var2  var3  var4  var5  var6   var7  var8  dep\n",
              "0     6   148    72    35     0  33.6  0.627    50    1\n",
              "1     1    85    66    29     0  26.6  0.351    31    0\n",
              "2     8   183    64     0     0  23.3  0.672    32    1\n",
              "3     1    89    66    23    94  28.1  0.167    21    0\n",
              "4     0   137    40    35   168  43.1  2.288    33    1"
            ],
            "text/html": [
              "\n",
              "  <div id=\"df-fd2f2b57-8948-4039-af8c-2d928f8bb72c\" class=\"colab-df-container\">\n",
              "    <div>\n",
              "<style scoped>\n",
              "    .dataframe tbody tr th:only-of-type {\n",
              "        vertical-align: middle;\n",
              "    }\n",
              "\n",
              "    .dataframe tbody tr th {\n",
              "        vertical-align: top;\n",
              "    }\n",
              "\n",
              "    .dataframe thead th {\n",
              "        text-align: right;\n",
              "    }\n",
              "</style>\n",
              "<table border=\"1\" class=\"dataframe\">\n",
              "  <thead>\n",
              "    <tr style=\"text-align: right;\">\n",
              "      <th></th>\n",
              "      <th>var1</th>\n",
              "      <th>var2</th>\n",
              "      <th>var3</th>\n",
              "      <th>var4</th>\n",
              "      <th>var5</th>\n",
              "      <th>var6</th>\n",
              "      <th>var7</th>\n",
              "      <th>var8</th>\n",
              "      <th>dep</th>\n",
              "    </tr>\n",
              "  </thead>\n",
              "  <tbody>\n",
              "    <tr>\n",
              "      <th>0</th>\n",
              "      <td>6</td>\n",
              "      <td>148</td>\n",
              "      <td>72</td>\n",
              "      <td>35</td>\n",
              "      <td>0</td>\n",
              "      <td>33.6</td>\n",
              "      <td>0.627</td>\n",
              "      <td>50</td>\n",
              "      <td>1</td>\n",
              "    </tr>\n",
              "    <tr>\n",
              "      <th>1</th>\n",
              "      <td>1</td>\n",
              "      <td>85</td>\n",
              "      <td>66</td>\n",
              "      <td>29</td>\n",
              "      <td>0</td>\n",
              "      <td>26.6</td>\n",
              "      <td>0.351</td>\n",
              "      <td>31</td>\n",
              "      <td>0</td>\n",
              "    </tr>\n",
              "    <tr>\n",
              "      <th>2</th>\n",
              "      <td>8</td>\n",
              "      <td>183</td>\n",
              "      <td>64</td>\n",
              "      <td>0</td>\n",
              "      <td>0</td>\n",
              "      <td>23.3</td>\n",
              "      <td>0.672</td>\n",
              "      <td>32</td>\n",
              "      <td>1</td>\n",
              "    </tr>\n",
              "    <tr>\n",
              "      <th>3</th>\n",
              "      <td>1</td>\n",
              "      <td>89</td>\n",
              "      <td>66</td>\n",
              "      <td>23</td>\n",
              "      <td>94</td>\n",
              "      <td>28.1</td>\n",
              "      <td>0.167</td>\n",
              "      <td>21</td>\n",
              "      <td>0</td>\n",
              "    </tr>\n",
              "    <tr>\n",
              "      <th>4</th>\n",
              "      <td>0</td>\n",
              "      <td>137</td>\n",
              "      <td>40</td>\n",
              "      <td>35</td>\n",
              "      <td>168</td>\n",
              "      <td>43.1</td>\n",
              "      <td>2.288</td>\n",
              "      <td>33</td>\n",
              "      <td>1</td>\n",
              "    </tr>\n",
              "  </tbody>\n",
              "</table>\n",
              "</div>\n",
              "    <div class=\"colab-df-buttons\">\n",
              "\n",
              "  <div class=\"colab-df-container\">\n",
              "    <button class=\"colab-df-convert\" onclick=\"convertToInteractive('df-fd2f2b57-8948-4039-af8c-2d928f8bb72c')\"\n",
              "            title=\"Convert this dataframe to an interactive table.\"\n",
              "            style=\"display:none;\">\n",
              "\n",
              "  <svg xmlns=\"http://www.w3.org/2000/svg\" height=\"24px\" viewBox=\"0 -960 960 960\">\n",
              "    <path d=\"M120-120v-720h720v720H120Zm60-500h600v-160H180v160Zm220 220h160v-160H400v160Zm0 220h160v-160H400v160ZM180-400h160v-160H180v160Zm440 0h160v-160H620v160ZM180-180h160v-160H180v160Zm440 0h160v-160H620v160Z\"/>\n",
              "  </svg>\n",
              "    </button>\n",
              "\n",
              "  <style>\n",
              "    .colab-df-container {\n",
              "      display:flex;\n",
              "      gap: 12px;\n",
              "    }\n",
              "\n",
              "    .colab-df-convert {\n",
              "      background-color: #E8F0FE;\n",
              "      border: none;\n",
              "      border-radius: 50%;\n",
              "      cursor: pointer;\n",
              "      display: none;\n",
              "      fill: #1967D2;\n",
              "      height: 32px;\n",
              "      padding: 0 0 0 0;\n",
              "      width: 32px;\n",
              "    }\n",
              "\n",
              "    .colab-df-convert:hover {\n",
              "      background-color: #E2EBFA;\n",
              "      box-shadow: 0px 1px 2px rgba(60, 64, 67, 0.3), 0px 1px 3px 1px rgba(60, 64, 67, 0.15);\n",
              "      fill: #174EA6;\n",
              "    }\n",
              "\n",
              "    .colab-df-buttons div {\n",
              "      margin-bottom: 4px;\n",
              "    }\n",
              "\n",
              "    [theme=dark] .colab-df-convert {\n",
              "      background-color: #3B4455;\n",
              "      fill: #D2E3FC;\n",
              "    }\n",
              "\n",
              "    [theme=dark] .colab-df-convert:hover {\n",
              "      background-color: #434B5C;\n",
              "      box-shadow: 0px 1px 3px 1px rgba(0, 0, 0, 0.15);\n",
              "      filter: drop-shadow(0px 1px 2px rgba(0, 0, 0, 0.3));\n",
              "      fill: #FFFFFF;\n",
              "    }\n",
              "  </style>\n",
              "\n",
              "    <script>\n",
              "      const buttonEl =\n",
              "        document.querySelector('#df-fd2f2b57-8948-4039-af8c-2d928f8bb72c button.colab-df-convert');\n",
              "      buttonEl.style.display =\n",
              "        google.colab.kernel.accessAllowed ? 'block' : 'none';\n",
              "\n",
              "      async function convertToInteractive(key) {\n",
              "        const element = document.querySelector('#df-fd2f2b57-8948-4039-af8c-2d928f8bb72c');\n",
              "        const dataTable =\n",
              "          await google.colab.kernel.invokeFunction('convertToInteractive',\n",
              "                                                    [key], {});\n",
              "        if (!dataTable) return;\n",
              "\n",
              "        const docLinkHtml = 'Like what you see? Visit the ' +\n",
              "          '<a target=\"_blank\" href=https://colab.research.google.com/notebooks/data_table.ipynb>data table notebook</a>'\n",
              "          + ' to learn more about interactive tables.';\n",
              "        element.innerHTML = '';\n",
              "        dataTable['output_type'] = 'display_data';\n",
              "        await google.colab.output.renderOutput(dataTable, element);\n",
              "        const docLink = document.createElement('div');\n",
              "        docLink.innerHTML = docLinkHtml;\n",
              "        element.appendChild(docLink);\n",
              "      }\n",
              "    </script>\n",
              "  </div>\n",
              "\n",
              "\n",
              "<div id=\"df-81a703a4-eabe-42f3-9bc6-4fe174bac597\">\n",
              "  <button class=\"colab-df-quickchart\" onclick=\"quickchart('df-81a703a4-eabe-42f3-9bc6-4fe174bac597')\"\n",
              "            title=\"Suggest charts\"\n",
              "            style=\"display:none;\">\n",
              "\n",
              "<svg xmlns=\"http://www.w3.org/2000/svg\" height=\"24px\"viewBox=\"0 0 24 24\"\n",
              "     width=\"24px\">\n",
              "    <g>\n",
              "        <path d=\"M19 3H5c-1.1 0-2 .9-2 2v14c0 1.1.9 2 2 2h14c1.1 0 2-.9 2-2V5c0-1.1-.9-2-2-2zM9 17H7v-7h2v7zm4 0h-2V7h2v10zm4 0h-2v-4h2v4z\"/>\n",
              "    </g>\n",
              "</svg>\n",
              "  </button>\n",
              "\n",
              "<style>\n",
              "  .colab-df-quickchart {\n",
              "      --bg-color: #E8F0FE;\n",
              "      --fill-color: #1967D2;\n",
              "      --hover-bg-color: #E2EBFA;\n",
              "      --hover-fill-color: #174EA6;\n",
              "      --disabled-fill-color: #AAA;\n",
              "      --disabled-bg-color: #DDD;\n",
              "  }\n",
              "\n",
              "  [theme=dark] .colab-df-quickchart {\n",
              "      --bg-color: #3B4455;\n",
              "      --fill-color: #D2E3FC;\n",
              "      --hover-bg-color: #434B5C;\n",
              "      --hover-fill-color: #FFFFFF;\n",
              "      --disabled-bg-color: #3B4455;\n",
              "      --disabled-fill-color: #666;\n",
              "  }\n",
              "\n",
              "  .colab-df-quickchart {\n",
              "    background-color: var(--bg-color);\n",
              "    border: none;\n",
              "    border-radius: 50%;\n",
              "    cursor: pointer;\n",
              "    display: none;\n",
              "    fill: var(--fill-color);\n",
              "    height: 32px;\n",
              "    padding: 0;\n",
              "    width: 32px;\n",
              "  }\n",
              "\n",
              "  .colab-df-quickchart:hover {\n",
              "    background-color: var(--hover-bg-color);\n",
              "    box-shadow: 0 1px 2px rgba(60, 64, 67, 0.3), 0 1px 3px 1px rgba(60, 64, 67, 0.15);\n",
              "    fill: var(--button-hover-fill-color);\n",
              "  }\n",
              "\n",
              "  .colab-df-quickchart-complete:disabled,\n",
              "  .colab-df-quickchart-complete:disabled:hover {\n",
              "    background-color: var(--disabled-bg-color);\n",
              "    fill: var(--disabled-fill-color);\n",
              "    box-shadow: none;\n",
              "  }\n",
              "\n",
              "  .colab-df-spinner {\n",
              "    border: 2px solid var(--fill-color);\n",
              "    border-color: transparent;\n",
              "    border-bottom-color: var(--fill-color);\n",
              "    animation:\n",
              "      spin 1s steps(1) infinite;\n",
              "  }\n",
              "\n",
              "  @keyframes spin {\n",
              "    0% {\n",
              "      border-color: transparent;\n",
              "      border-bottom-color: var(--fill-color);\n",
              "      border-left-color: var(--fill-color);\n",
              "    }\n",
              "    20% {\n",
              "      border-color: transparent;\n",
              "      border-left-color: var(--fill-color);\n",
              "      border-top-color: var(--fill-color);\n",
              "    }\n",
              "    30% {\n",
              "      border-color: transparent;\n",
              "      border-left-color: var(--fill-color);\n",
              "      border-top-color: var(--fill-color);\n",
              "      border-right-color: var(--fill-color);\n",
              "    }\n",
              "    40% {\n",
              "      border-color: transparent;\n",
              "      border-right-color: var(--fill-color);\n",
              "      border-top-color: var(--fill-color);\n",
              "    }\n",
              "    60% {\n",
              "      border-color: transparent;\n",
              "      border-right-color: var(--fill-color);\n",
              "    }\n",
              "    80% {\n",
              "      border-color: transparent;\n",
              "      border-right-color: var(--fill-color);\n",
              "      border-bottom-color: var(--fill-color);\n",
              "    }\n",
              "    90% {\n",
              "      border-color: transparent;\n",
              "      border-bottom-color: var(--fill-color);\n",
              "    }\n",
              "  }\n",
              "</style>\n",
              "\n",
              "  <script>\n",
              "    async function quickchart(key) {\n",
              "      const quickchartButtonEl =\n",
              "        document.querySelector('#' + key + ' button');\n",
              "      quickchartButtonEl.disabled = true;  // To prevent multiple clicks.\n",
              "      quickchartButtonEl.classList.add('colab-df-spinner');\n",
              "      try {\n",
              "        const charts = await google.colab.kernel.invokeFunction(\n",
              "            'suggestCharts', [key], {});\n",
              "      } catch (error) {\n",
              "        console.error('Error during call to suggestCharts:', error);\n",
              "      }\n",
              "      quickchartButtonEl.classList.remove('colab-df-spinner');\n",
              "      quickchartButtonEl.classList.add('colab-df-quickchart-complete');\n",
              "    }\n",
              "    (() => {\n",
              "      let quickchartButtonEl =\n",
              "        document.querySelector('#df-81a703a4-eabe-42f3-9bc6-4fe174bac597 button');\n",
              "      quickchartButtonEl.style.display =\n",
              "        google.colab.kernel.accessAllowed ? 'block' : 'none';\n",
              "    })();\n",
              "  </script>\n",
              "</div>\n",
              "\n",
              "    </div>\n",
              "  </div>\n"
            ],
            "application/vnd.google.colaboratory.intrinsic+json": {
              "type": "dataframe",
              "variable_name": "df",
              "summary": "{\n  \"name\": \"df\",\n  \"rows\": 768,\n  \"fields\": [\n    {\n      \"column\": \"var1\",\n      \"properties\": {\n        \"dtype\": \"number\",\n        \"std\": 3,\n        \"min\": 0,\n        \"max\": 17,\n        \"num_unique_values\": 17,\n        \"samples\": [\n          6,\n          1,\n          3\n        ],\n        \"semantic_type\": \"\",\n        \"description\": \"\"\n      }\n    },\n    {\n      \"column\": \"var2\",\n      \"properties\": {\n        \"dtype\": \"number\",\n        \"std\": 31,\n        \"min\": 0,\n        \"max\": 199,\n        \"num_unique_values\": 136,\n        \"samples\": [\n          151,\n          101,\n          112\n        ],\n        \"semantic_type\": \"\",\n        \"description\": \"\"\n      }\n    },\n    {\n      \"column\": \"var3\",\n      \"properties\": {\n        \"dtype\": \"number\",\n        \"std\": 19,\n        \"min\": 0,\n        \"max\": 122,\n        \"num_unique_values\": 47,\n        \"samples\": [\n          86,\n          46,\n          85\n        ],\n        \"semantic_type\": \"\",\n        \"description\": \"\"\n      }\n    },\n    {\n      \"column\": \"var4\",\n      \"properties\": {\n        \"dtype\": \"number\",\n        \"std\": 15,\n        \"min\": 0,\n        \"max\": 99,\n        \"num_unique_values\": 51,\n        \"samples\": [\n          7,\n          12,\n          48\n        ],\n        \"semantic_type\": \"\",\n        \"description\": \"\"\n      }\n    },\n    {\n      \"column\": \"var5\",\n      \"properties\": {\n        \"dtype\": \"number\",\n        \"std\": 115,\n        \"min\": 0,\n        \"max\": 846,\n        \"num_unique_values\": 186,\n        \"samples\": [\n          52,\n          41,\n          183\n        ],\n        \"semantic_type\": \"\",\n        \"description\": \"\"\n      }\n    },\n    {\n      \"column\": \"var6\",\n      \"properties\": {\n        \"dtype\": \"number\",\n        \"std\": 7.884160320375446,\n        \"min\": 0.0,\n        \"max\": 67.1,\n        \"num_unique_values\": 248,\n        \"samples\": [\n          19.9,\n          31.0,\n          38.1\n        ],\n        \"semantic_type\": \"\",\n        \"description\": \"\"\n      }\n    },\n    {\n      \"column\": \"var7\",\n      \"properties\": {\n        \"dtype\": \"number\",\n        \"std\": 0.3313285950127749,\n        \"min\": 0.078,\n        \"max\": 2.42,\n        \"num_unique_values\": 517,\n        \"samples\": [\n          1.731,\n          0.426,\n          0.138\n        ],\n        \"semantic_type\": \"\",\n        \"description\": \"\"\n      }\n    },\n    {\n      \"column\": \"var8\",\n      \"properties\": {\n        \"dtype\": \"number\",\n        \"std\": 11,\n        \"min\": 21,\n        \"max\": 81,\n        \"num_unique_values\": 52,\n        \"samples\": [\n          60,\n          47,\n          72\n        ],\n        \"semantic_type\": \"\",\n        \"description\": \"\"\n      }\n    },\n    {\n      \"column\": \"dep\",\n      \"properties\": {\n        \"dtype\": \"number\",\n        \"std\": 0,\n        \"min\": 0,\n        \"max\": 1,\n        \"num_unique_values\": 2,\n        \"samples\": [\n          0,\n          1\n        ],\n        \"semantic_type\": \"\",\n        \"description\": \"\"\n      }\n    }\n  ]\n}"
            }
          },
          "metadata": {},
          "execution_count": 29
        }
      ],
      "source": [
        "df.head()"
      ]
    },
    {
      "cell_type": "code",
      "execution_count": null,
      "metadata": {
        "id": "XZRiMC-8xW_f"
      },
      "outputs": [],
      "source": [
        "# Define features and target\n",
        "X = df.drop('dep', axis=1)\n",
        "y = df['dep']\n",
        "\n",
        "# standardization\n",
        "scaler = StandardScaler()\n",
        "\n",
        "# fit the scaler on the training data and transform it\n",
        "X_stan = scaler.fit_transform(X)"
      ]
    },
    {
      "cell_type": "code",
      "execution_count": null,
      "metadata": {
        "colab": {
          "base_uri": "https://localhost:8080/",
          "height": 607
        },
        "id": "4AiOBPCfxQkj",
        "outputId": "3c7055b4-b9d3-4372-d437-6cc8c36c1193"
      },
      "outputs": [
        {
          "output_type": "display_data",
          "data": {
            "text/plain": [
              "<Figure size 1000x600 with 9 Axes>"
            ],
            "image/png": "[encoded data removed]"
          },
          "metadata": {}
        }
      ],
      "source": [
        "# Define the number of columns for the subplot grid\n",
        "num_cols = 3\n",
        "num_features = len(X.columns) + 1  # +1 for the target variable\n",
        "num_rows = (num_features + num_cols - 1) // num_cols  # Calculate the number of rows needed\n",
        "\n",
        "# Create a figure and set of subplots\n",
        "fig, axes = plt.subplots(num_rows, num_cols, figsize=(10, num_rows * 2))\n",
        "\n",
        "# Flatten the axes array for easy iteration\n",
        "axes = axes.flatten()\n",
        "\n",
        "# Plot the distribution of the target variable itself, with counts for each category\n",
        "sns.histplot(data=df, x='dep', discrete=True, kde=False, ax=axes[0])\n",
        "axes[0].set_title('Distribution of Target (dep)')\n",
        "axes[0].set_ylabel('Count')\n",
        "\n",
        "# Annotate counts on the target distribution plot\n",
        "for p in axes[0].patches:\n",
        "    axes[0].annotate(f'{int(p.get_height())}',\n",
        "                     (p.get_x() + p.get_width() / 2., p.get_height()),\n",
        "                     ha='center', va='baseline', fontsize=12, color='black', xytext=(0, 5),\n",
        "                     textcoords='offset points')\n",
        "\n",
        "# Plot each feature in a subplot with individual y-axis limits and bins\n",
        "for i, column in enumerate(X.columns, start=1):  # Start from index 1 for the feature plots\n",
        "    sns.histplot(data=df, x=column, hue='dep', multiple='stack', kde=True, ax=axes[i])\n",
        "    axes[i].set_title(f'Distribution of {column} by Target')\n",
        "    axes[i].set_ylabel('Count')\n",
        "\n",
        "# Remove any unused subplots\n",
        "for i in range(num_features, len(axes)):\n",
        "    fig.delaxes(axes[i])\n",
        "\n",
        "# Adjust the layout to prevent overlap\n",
        "plt.tight_layout()\n",
        "plt.show()\n"
      ]
    },
    {
      "cell_type": "markdown",
      "metadata": {
        "id": "QE2uQyOsKOXK"
      },
      "source": [
        "# Balance the training data </font>"
      ]
    },
    {
      "cell_type": "markdown",
      "source": [
        "<font color=\"darkblue\"> Usually, I prefer undersampling over oversampling to avoid potential risks and issues. However, I've already tried undersampling, and the performance wasn't satisfactory. Since I don't have more information about the data and it's not the primary goal of this task, let's temporarily proceed with oversampling for the following analysis"
      ],
      "metadata": {
        "id": "TOaXt1xLYluC"
      }
    },
    {
      "cell_type": "code",
      "execution_count": null,
      "metadata": {
        "id": "9KEBpWmMiJ8E"
      },
      "outputs": [],
      "source": [
        "# train test split\n",
        "X_train, X_test, y_train, y_test = train_test_split(X_stan, y, test_size=0.2, random_state=131)\n",
        "\n",
        "# Apply RandomOverSampler to the training set\n",
        "rus = RandomOverSampler(random_state=131)\n",
        "X_train_resampled, y_train_resampled = rus.fit_resample(X_train, y_train)"
      ]
    },
    {
      "cell_type": "markdown",
      "metadata": {
        "id": "hEQzFaflHirZ"
      },
      "source": [
        "# Model fitting"
      ]
    },
    {
      "cell_type": "code",
      "source": [
        "# Define the path where the models will be saved\n",
        "gridsearch_model_path = \"/content/drive/MyDrive/OA/best_gridsearch_model.joblib\"\n",
        "randomsearch_model_path = \"/content/drive/MyDrive/OA/best_randomsearch_model.joblib\"\n",
        "\n",
        "# Check if GridSearch model exists\n",
        "if os.path.exists(gridsearch_model_path):\n",
        "    best_gridsearch_model = load(gridsearch_model_path)\n",
        "    print(\"GridSearch model loaded.\")\n",
        "else:\n",
        "    print(f\"GridSearch model not found at {gridsearch_model_path}. Please generate the model.\")\n",
        "\n",
        "# Check if RandomizedSearch model exists\n",
        "if os.path.exists(randomsearch_model_path):\n",
        "    best_randomsearch_model = load(randomsearch_model_path)\n",
        "    print(\"RandomizedSearch model loaded.\")\n",
        "else:\n",
        "    print(f\"RandomizedSearch model not found at {randomsearch_model_path}. Please generate the model.\")"
      ],
      "metadata": {
        "colab": {
          "base_uri": "https://localhost:8080/"
        },
        "id": "Eigy5c0EYC6O",
        "outputId": "c52c2f5f-2b9b-4ad3-e612-e58f7a91ce01"
      },
      "execution_count": null,
      "outputs": [
        {
          "output_type": "stream",
          "name": "stdout",
          "text": [
            "GridSearch model loaded.\n",
            "RandomizedSearch model loaded.\n"
          ]
        }
      ]
    },
    {
      "cell_type": "markdown",
      "source": [
        "## Create the model if it does not exist"
      ],
      "metadata": {
        "id": "vaBGeJYaYMGm"
      }
    },
    {
      "cell_type": "markdown",
      "metadata": {
        "id": "NaQg3yXK2IfV"
      },
      "source": [
        "<font color=\"darkblue\"> Let's begin with a random search to identify a good set of parameters, and then proceed with a grid search using the best parameters identified from the random search. For your reference, the random search parameters have already been adjusted.</font>"
      ]
    },
    {
      "cell_type": "code",
      "execution_count": null,
      "metadata": {
        "colab": {
          "base_uri": "https://localhost:8080/"
        },
        "id": "BF_SPD30cvmY",
        "outputId": "30cfc34d-067b-4d45-e49f-e285ba809177"
      },
      "outputs": [
        {
          "output_type": "stream",
          "name": "stdout",
          "text": [
            "Fitting 5 folds for each of 50 candidates, totalling 250 fits\n",
            "\n",
            "Best parameters found by Random Search:\n",
            "{'n_estimators': 100, 'min_samples_split': 20, 'min_samples_leaf': 10, 'max_features': 'sqrt', 'max_depth': 15, 'criterion': 'gini', 'bootstrap': True}\n"
          ]
        }
      ],
      "source": [
        "# Define a balanced hyperparameter grid\n",
        "param_dist = {\n",
        "    'n_estimators': [50, 70, 100],  # Balances model robustness with training time\n",
        "    'max_depth': [5, 10, 15],  # Prevents overfitting by limiting tree depth\n",
        "    'min_samples_split': [20, 30, 40],  # Reduces risk of splitting on noise\n",
        "    'min_samples_leaf': [10, 15, 20],  # Ensures sufficient samples per leaf for generalization\n",
        "    'max_features': ['sqrt'],  # Standard choice for smaller datasets\n",
        "    'criterion': ['gini'],  # Efficient for binary classification\n",
        "    'bootstrap': [True],  # Introduces variability to prevent overfitting\n",
        "}\n",
        "\n",
        "# Initialize and perform RandomizedSearchCV\n",
        "random_search = RandomizedSearchCV(estimator=RandomForestClassifier(random_state=131),\n",
        "                                                param_distributions=param_dist,\n",
        "                                                n_iter=50, # Number of iterations for Random Search\n",
        "                                                cv=5, # 5-fold cross-validation\n",
        "                                                scoring='f1_macro', # Scoring metric to optimize\n",
        "                                                random_state=131,\n",
        "                                                n_jobs=-1,  # Use all available cores\n",
        "                                                verbose=3,\n",
        "                                                )\n",
        "\n",
        "# Fit RandomizedSearchCV\n",
        "random_search.fit(X_train_resampled, y_train_resampled)\n",
        "\n",
        "# Evaluate on training and test sets\n",
        "y_train_pred = random_search.best_estimator_.predict(X_train_resampled)\n",
        "y_test_pred = random_search.best_estimator_.predict(X_test)\n",
        "\n",
        "# Print best parameters\n",
        "print(\"\\nBest parameters found by Random Search:\")\n",
        "print(random_search.best_params_)"
      ]
    },
    {
      "cell_type": "code",
      "source": [
        "\n",
        "# Training set evaluation\n",
        "print(\"\\nAccuracy on the training set:\", accuracy_score(y_train_resampled, y_train_pred))\n",
        "print(\"\\nClassification Report on the training set:\")\n",
        "print(classification_report(y_train_resampled, y_train_pred))\n",
        "\n",
        "# Test set evaluation\n",
        "print(\"\\nAccuracy on the test set:\", accuracy_score(y_test, y_test_pred))\n",
        "print(\"\\nClassification Report on the test set:\")\n",
        "print(classification_report(y_test, y_test_pred))"
      ],
      "metadata": {
        "colab": {
          "base_uri": "https://localhost:8080/"
        },
        "id": "rhiu6kO5q8UI",
        "outputId": "73290108-8083-4f6f-f4ec-92cc84f1f798"
      },
      "execution_count": null,
      "outputs": [
        {
          "output_type": "stream",
          "name": "stdout",
          "text": [
            "\n",
            "Accuracy on the training set: 0.860969387755102\n",
            "\n",
            "Classification Report on the training set:\n",
            "              precision    recall  f1-score   support\n",
            "\n",
            "           0       0.88      0.84      0.86       392\n",
            "           1       0.85      0.88      0.86       392\n",
            "\n",
            "    accuracy                           0.86       784\n",
            "   macro avg       0.86      0.86      0.86       784\n",
            "weighted avg       0.86      0.86      0.86       784\n",
            "\n",
            "\n",
            "Accuracy on the test set: 0.7597402597402597\n",
            "\n",
            "Classification Report on the test set:\n",
            "              precision    recall  f1-score   support\n",
            "\n",
            "           0       0.86      0.79      0.82       108\n",
            "           1       0.58      0.70      0.63        46\n",
            "\n",
            "    accuracy                           0.76       154\n",
            "   macro avg       0.72      0.74      0.73       154\n",
            "weighted avg       0.78      0.76      0.77       154\n",
            "\n"
          ]
        }
      ]
    },
    {
      "cell_type": "markdown",
      "metadata": {
        "id": "pTe43jEb98lb"
      },
      "source": [
        "<font color=\"darkblue\"> From the predicted results, we noticed there is an overfitting problem, particularly evident from the drop in performance on the test set (i.e., precision for class 1).\n",
        "\n",
        "<font color=\"darkblue\"> While there are several approaches to address overfitting and unbalanced precision, such as adjusting class weights, using regularization techniques, or employing more advanced methods like SMOTE for balancing, considering the goal of this case is to develop a monitoring plan, and without a data dictionary for deeper insights, we will stick with the current model.\n",
        "\n",
        "<font color=\"darkblue\">To refine it further, we will apply a GridSearch to fine-tune the hyperparameters, aiming to improve overall performance and address the observed imbalance. </font>"
      ]
    },
    {
      "cell_type": "markdown",
      "metadata": {
        "id": "xaKmWk_QuzKu"
      },
      "source": [
        "  ## GridSearchCV after random search"
      ]
    },
    {
      "cell_type": "code",
      "execution_count": null,
      "metadata": {
        "colab": {
          "base_uri": "https://localhost:8080/"
        },
        "id": "t8qIwX_As0vW",
        "outputId": "11b10b2d-a5f3-4fcc-963c-dff2a24a0f06"
      },
      "outputs": [
        {
          "output_type": "stream",
          "name": "stdout",
          "text": [
            "Fitting 5 folds for each of 81 candidates, totalling 405 fits\n",
            "\n",
            "Best parameters found by Grid Search:\n",
            "{'bootstrap': True, 'criterion': 'gini', 'max_depth': 14, 'max_features': 'sqrt', 'min_samples_leaf': 8, 'min_samples_split': 15, 'n_estimators': 90}\n"
          ]
        }
      ],
      "source": [
        "# Refine the search space for GridSearchCV based on the best parameters from RandomizedSearchCV\n",
        "grid_param_dist = {\n",
        "    'n_estimators': [random_search.best_params_['n_estimators'] - 10,\n",
        "                     random_search.best_params_['n_estimators'],\n",
        "                     random_search.best_params_['n_estimators'] + 10],\n",
        "    'max_depth': [random_search.best_params_['max_depth'] - 1,\n",
        "                  random_search.best_params_['max_depth'],\n",
        "                  random_search.best_params_['max_depth'] + 1],\n",
        "    'min_samples_split': [random_search.best_params_['min_samples_split'] - 5 if random_search.best_params_['min_samples_split'] > 5 else 2,\n",
        "                          random_search.best_params_['min_samples_split'],\n",
        "                          random_search.best_params_['min_samples_split'] + 5],\n",
        "    'min_samples_leaf': [random_search.best_params_['min_samples_leaf'] - 2 if random_search\n",
        "                         .best_params_['min_samples_leaf'] > 1 else 1,\n",
        "                         random_search.best_params_['min_samples_leaf'],\n",
        "                         random_search.best_params_['min_samples_leaf'] + 2],\n",
        "    'max_features': [random_search.best_params_['max_features']],  # Keep the best max_features\n",
        "    'criterion': [random_search.best_params_['criterion']],  # Keep the best criterion\n",
        "    'bootstrap': [random_search.best_params_['bootstrap']],  # Keep the best bootstrap\n",
        "}\n",
        "\n",
        "# Initialize and perform GridSearchCV\n",
        "grid_search = GridSearchCV(estimator=RandomForestClassifier(random_state=131),\n",
        "                           param_grid=grid_param_dist,\n",
        "                           cv=5,\n",
        "                           scoring='f1_macro',\n",
        "                           n_jobs=-1,\n",
        "                           verbose=3)\n",
        "\n",
        "# Fit GridSearchCV\n",
        "grid_search.fit(X_train_resampled, y_train_resampled)\n",
        "\n",
        "# Evaluate on training and test sets\n",
        "y_train_pred_grid = grid_search.best_estimator_.predict(X_train_resampled)\n",
        "y_test_pred_grid = grid_search.best_estimator_.predict(X_test)\n",
        "\n",
        "# Print best parameters\n",
        "print(\"\\nBest parameters found by Grid Search:\")\n",
        "print(grid_search.best_params_)\n"
      ]
    },
    {
      "cell_type": "code",
      "source": [
        "# Training set evaluation\n",
        "print(\"\\nAccuracy on the training set:\", accuracy_score(y_train_resampled, y_train_pred_grid))\n",
        "print(\"\\nClassification Report on the training set:\")\n",
        "print(classification_report(y_train_resampled, y_train_pred_grid))\n",
        "\n",
        "# Test set evaluation\n",
        "print(\"\\nAccuracy on the test set:\", accuracy_score(y_test, y_test_pred_grid))\n",
        "print(\"\\nClassification Report on the test set:\")\n",
        "print(classification_report(y_test, y_test_pred_grid))"
      ],
      "metadata": {
        "colab": {
          "base_uri": "https://localhost:8080/"
        },
        "id": "-nEme8_lsWor",
        "outputId": "774a7cf2-f6db-4efc-d6b7-c09614d3ad7a"
      },
      "execution_count": null,
      "outputs": [
        {
          "output_type": "stream",
          "name": "stdout",
          "text": [
            "\n",
            "Accuracy on the training set: 0.8788265306122449\n",
            "\n",
            "Classification Report on the training set:\n",
            "              precision    recall  f1-score   support\n",
            "\n",
            "           0       0.90      0.85      0.88       392\n",
            "           1       0.86      0.90      0.88       392\n",
            "\n",
            "    accuracy                           0.88       784\n",
            "   macro avg       0.88      0.88      0.88       784\n",
            "weighted avg       0.88      0.88      0.88       784\n",
            "\n",
            "\n",
            "Accuracy on the test set: 0.7662337662337663\n",
            "\n",
            "Classification Report on the test set:\n",
            "              precision    recall  f1-score   support\n",
            "\n",
            "           0       0.87      0.79      0.83       108\n",
            "           1       0.59      0.72      0.65        46\n",
            "\n",
            "    accuracy                           0.77       154\n",
            "   macro avg       0.73      0.75      0.74       154\n",
            "weighted avg       0.78      0.77      0.77       154\n",
            "\n"
          ]
        }
      ]
    },
    {
      "cell_type": "markdown",
      "metadata": {
        "id": "kj5J4VWkBjCQ"
      },
      "source": [
        "<font color=\"darkblue\"> **Overfitting**: Both Grid Search and Random Search resulted in models with similar overfitting issues. However, Grid Search demonstrated improvements across all evaluation metrics (precision, recall, F1-score, accuracy).\n",
        "\n",
        "<font color=\"darkblue\"> **Conclusion**: Grid Search provides more efficient hyperparameter optimization with better performance on the test set. Let's stick with this model.\n",
        "\n",
        "---\n",
        "\n"
      ]
    },
    {
      "cell_type": "markdown",
      "metadata": {
        "id": "PyCZRxOHADie"
      },
      "source": [
        "# Monitoring Plan Test Code"
      ]
    },
    {
      "cell_type": "markdown",
      "source": [
        "<font color=\"darkblue\"> Since future data isn't available, let's split the test data as a proxy for both training and future data, and visualize the results for easier interpretation."
      ],
      "metadata": {
        "id": "6Ixi7Ez7ePOO"
      }
    },
    {
      "cell_type": "code",
      "source": [
        "X_actual, X_expected, y_actual, y_expected = train_test_split(X_train, y_train, test_size=0.5, random_state=21)"
      ],
      "metadata": {
        "id": "nxbu-DzLuc0_"
      },
      "execution_count": 17,
      "outputs": []
    },
    {
      "cell_type": "markdown",
      "metadata": {
        "id": "D-hQZmN3vYGl"
      },
      "source": [
        "## Conceptual Soundness Monitoring"
      ]
    },
    {
      "cell_type": "markdown",
      "metadata": {
        "id": "u3jS1jJEvfwn"
      },
      "source": [
        "<font color=\"darkblue\"> **Data Drift Detection**"
      ]
    },
    {
      "cell_type": "markdown",
      "source": [
        "<font color=\"darkblue\"> Sicne Random Forest  is relatively assumption-free, monitoring data drift ensures that the input and output stability is maintained, which is crucial for consistent model predictions."
      ],
      "metadata": {
        "id": "3DzydL-Jfa-K"
      }
    },
    {
      "cell_type": "markdown",
      "metadata": {
        "id": "RHzDTCGA0Eyw"
      },
      "source": [
        "<font color=\"darkgreen\"> **PSI and CSI**"
      ]
    },
    {
      "cell_type": "code",
      "source": [
        "def calculate_psi(expected, actual, bins=10):\n",
        "    expected = np.array(expected)\n",
        "    actual = np.array(actual)\n",
        "    # Create breakpoints for the bins, ranging from the minimum to maximum of the expected values\n",
        "    breakpoints = np.linspace(np.min(expected), np.max(expected), bins + 1)\n",
        "    # Calculate the percentage of expected/actual values that fall into each bin\n",
        "    expected_percents = np.histogram(expected, bins=breakpoints)[0] / len(expected)\n",
        "    actual_percents = np.histogram(actual, bins=breakpoints)[0] / len(actual)\n",
        "    # Small constant to avoid division by zero in logarithm calculation\n",
        "    epsilon = 1e-10\n",
        "    # Calculate PSI values for each bin\n",
        "    psi_values = (expected_percents - actual_percents) * np.log((expected_percents + epsilon) / (actual_percents + epsilon))\n",
        "    # Sum the PSI values across all bins to get the total PSI\n",
        "    psi = np.sum(psi_values)\n",
        "    return psi\n",
        "\n",
        "def calculate_csi(expected, actual, bins=10):\n",
        "    return calculate_psi(expected, actual, bins=bins)\n",
        "\n",
        "# De-standardize the data\n",
        "X_expected_destandardized = scaler.inverse_transform(X_expected)\n",
        "X_actual_destandardized = scaler.inverse_transform(X_actual)\n",
        "\n",
        "# Calculate PSI between training and future data for each feature\n",
        "y_expected_prob = best_gridsearch_model.predict_proba(X_expected)[:, 1]\n",
        "y_actual_prob = best_gridsearch_model.predict_proba(X_actual)[:, 1]\n",
        "\n",
        "psi_value = calculate_psi(y_expected_prob, y_actual_prob)\n",
        "print(f\"PSI for 'Dep': {psi_value:.4f}\")\n",
        "\n",
        "# Get predicted probabilities for training and future data\n",
        "for i in range(X.shape[1]):\n",
        "    csi_value = calculate_csi(X_expected_destandardized[:, i], X_actual_destandardized[:, i])\n",
        "    print(f\"CSI for Var{i+1}: {csi_value:.4f}\")"
      ],
      "metadata": {
        "colab": {
          "base_uri": "https://localhost:8080/"
        },
        "id": "s4c4IhTFeHTF",
        "outputId": "ea47869d-4e55-4a75-968e-caec0a75c45f"
      },
      "execution_count": 19,
      "outputs": [
        {
          "output_type": "stream",
          "name": "stdout",
          "text": [
            "PSI for 'Dep': 0.0489\n",
            "CSI for Var1: 0.0354\n",
            "CSI for Var2: 0.0583\n",
            "CSI for Var3: 0.2359\n",
            "CSI for Var4: 0.1831\n",
            "CSI for Var5: 0.0950\n",
            "CSI for Var6: 0.2807\n",
            "CSI for Var7: 0.3002\n",
            "CSI for Var8: 0.0481\n"
          ]
        }
      ]
    },
    {
      "cell_type": "code",
      "source": [
        "# Visualize the distributions of the highest CSI feature\n",
        "plt.figure(figsize=(4, 3))\n",
        "plt.hist(X_expected[:, 7], bins=10, alpha=0.5, label='Train', color='blue')\n",
        "plt.hist(X_actual[:, 7], bins=10, alpha=0.5, label='Validation', color='orange')\n",
        "plt.title(\"CSI Distribution for Feature 7\")\n",
        "plt.xlabel('Feature Value')\n",
        "plt.ylabel('Frequency')\n",
        "plt.legend()\n",
        "plt.show()"
      ],
      "metadata": {
        "colab": {
          "base_uri": "https://localhost:8080/",
          "height": 333
        },
        "id": "LyVO_ogdVYjJ",
        "outputId": "9a1a1b1a-378f-4d65-b5f2-0e95f67f0afd"
      },
      "execution_count": 20,
      "outputs": [
        {
          "output_type": "display_data",
          "data": {
            "text/plain": [
              "<Figure size 400x300 with 1 Axes>"
            ],
            "image/png": "[encoded data removed]"
          },
          "metadata": {}
        }
      ]
    },
    {
      "cell_type": "markdown",
      "metadata": {
        "id": "1JTxrAZDR7p8"
      },
      "source": [
        "*  <font color=\"darkblue\">  PSI (Population Stability Index) and CSI (Characteristic Stability Index) are both metrics used to detect and quantify data drift, particularly in scenarios where you want to monitor the stability of a dataset or model over time. They help assess whether the distribution of certain features in your data has changed significantly between different time periods or between different datasets.\n",
        "*  <font color=\"darkblue\"> Here, I anticipate the following scenarios:\n",
        "1. Low PSI, Low CSI: This indicates that the data has passed the drift detection test.\n",
        "2. Low PSI, High CSI: This suggests that the feature importance should be reviewed to determine if the drifting features are key to the model's performance, despite stable predictions\n",
        "3. High PSI(i.e., >0.25), Low CSI: This suggests that the target variable might be influenced by external factors not captured by the features (i.e., regulation changes).\n",
        "4. High PSI, High CSI: A clear indication that the data has changed significantly.\n",
        "\n",
        "---\n",
        "\n"
      ]
    },
    {
      "cell_type": "markdown",
      "metadata": {
        "id": "tX1HrGuEg-Kh"
      },
      "source": [
        "<font color=\"darkgreen\">**KS-score**"
      ]
    },
    {
      "cell_type": "code",
      "execution_count": 25,
      "metadata": {
        "colab": {
          "base_uri": "https://localhost:8080/"
        },
        "id": "w9765z6N1exo",
        "outputId": "f8a6f96f-3b98-40d3-84ce-8117c2e065e2"
      },
      "outputs": [
        {
          "output_type": "stream",
          "name": "stdout",
          "text": [
            "No data drift detected in any feature.\n"
          ]
        }
      ],
      "source": [
        "# Initialize a dictionary to store drifted features and their p-values\n",
        "drifted_features = {}\n",
        "no_drifted = {}\n",
        "\n",
        "# Loop through each feature and perform the KS test\n",
        "for i in range(X_expected.shape[1]):\n",
        "    ks_statistic, p_value = ks_2samp(X_expected[:, i], X_actual[:, i])\n",
        "    if p_value < 0.05:  # If p-value is low, there is a significant difference\n",
        "        drifted_features[i] = {\"ks_statistic\": ks_statistic, \"p_value\": p_value}\n",
        "    else:\n",
        "        no_drifted[i] = {\"ks_statistic\": ks_statistic, \"p_value\": p_value}\n",
        "\n",
        "# Check if there are any drifted features\n",
        "if drifted_features:\n",
        "    print(\"Drifted features detected:\")\n",
        "    for feature, stats in drifted_features.items():\n",
        "        print(f\"Feature {feature}: KS Statistic = {stats['ks_statistic']:.4f},\\\n",
        "        p-value = {stats['p_value']:.4f}\")\n",
        "else:\n",
        "    print(\"No data drift detected in any feature.\")\n"
      ]
    },
    {
      "cell_type": "code",
      "source": [
        "# -- visualization\n",
        "plt.figure(figsize=(4, 2))\n",
        "\n",
        "# Plot the distribution of the feature in the training and test datasets\n",
        "sns.kdeplot(X_expected[:, 7], label='Expected Data', color='blue', fill=True)\n",
        "sns.kdeplot(X_actual[:, 7], label='Actual Data', color='red', fill=True)\n",
        "\n",
        "# Get the correct p-value from the no_drifted dictionary for feature 7\n",
        "p_value = no_drifted[7]['p_value']\n",
        "ks_statistic = no_drifted[7]['ks_statistic']\n",
        "\n",
        "plt.title(f'Distribution of Feature 7 in Training and New Data\\n(KS Statistic =\\\n",
        " {ks_statistic:.5f}, p-value = {p_value:.5f})')\n",
        "plt.xlabel('Feature 7 Values')\n",
        "plt.ylabel('Density')\n",
        "plt.legend()\n",
        "plt.show()\n"
      ],
      "metadata": {
        "colab": {
          "base_uri": "https://localhost:8080/",
          "height": 277
        },
        "id": "dapaqaCX8lsN",
        "outputId": "e6d3128f-28b0-4251-bd1a-deae866b187d"
      },
      "execution_count": 28,
      "outputs": [
        {
          "output_type": "display_data",
          "data": {
            "text/plain": [
              "<Figure size 400x200 with 1 Axes>"
            ],
            "image/png": "[encoded data removed]"
          },
          "metadata": {}
        }
      ]
    },
    {
      "cell_type": "markdown",
      "source": [
        "<font color=\"darkblue\"> The KS statistic measures the maximum deviation between empirical CDFs, capturing the most significant difference between distributions. A low p-value (e.g., < 0.05) indicates that the observed difference is unlikely to have occurred by chance, leading to the rejection of the null hypothesis and suggesting that data drift has likely occurred. Otherwise, the observed difference is statistically insignificant.\n",
        "\n",
        "<font color=\"red\"> Notice: If there is a small, consistent shift across many parts of the distribution, the CSI might be high, but the KS score could remain low if there is no single point of significant deviation, as observed in our CSI and KS score for Feature 7. Combining these two methods can help us better understand the drift problem in our dataset.\n",
        "\n",
        "---\n",
        "\n"
      ],
      "metadata": {
        "id": "2Q41wPDx3OmV"
      }
    },
    {
      "cell_type": "markdown",
      "source": [
        "<font color=\"darkblue\"> **Model Drift Detection**"
      ],
      "metadata": {
        "id": "NVyY6tKg8t7d"
      }
    },
    {
      "cell_type": "markdown",
      "source": [
        "<font color=\"darkgreen\"> **AUC-ROC curve**"
      ],
      "metadata": {
        "id": "kIowzmtEBq4d"
      }
    },
    {
      "cell_type": "code",
      "execution_count": 29,
      "metadata": {
        "colab": {
          "base_uri": "https://localhost:8080/",
          "height": 351
        },
        "id": "jREFBvVedXf9",
        "outputId": "a6b031d8-4caf-4b78-c4ea-59362050b739"
      },
      "outputs": [
        {
          "output_type": "display_data",
          "data": {
            "text/plain": [
              "<Figure size 400x300 with 1 Axes>"
            ],
            "image/png": "[encoded data removed]"
          },
          "metadata": {}
        },
        {
          "output_type": "stream",
          "name": "stdout",
          "text": [
            "Optimal Threshold: 0.545\n"
          ]
        }
      ],
      "source": [
        "# Get prediction probabilities from the best estimator\n",
        "y_probs_actual = best_gridsearch_model.predict_proba(X_actual)[:, 1]\n",
        "\n",
        "# Calculate ROC curve\n",
        "fpr, tpr, thresholds = roc_curve(y_actual, y_probs_actual)\n",
        "roc_auc = auc(fpr, tpr)\n",
        "\n",
        "# Plot ROC Curve\n",
        "plt.figure(figsize=(4, 3))\n",
        "plt.plot(fpr, tpr, label=f'ROC curve (area = {roc_auc:.2f})')\n",
        "plt.plot([0, 1], [0, 1], 'k--')\n",
        "plt.xlabel('False Positive Rate')\n",
        "plt.ylabel('True Positive Rate')\n",
        "plt.title('ROC Curve')\n",
        "plt.legend(loc=\"lower right\")\n",
        "plt.show()\n",
        "\n",
        "# Optimal threshold based on Youden's J statistic (maximizing TPR - FPR)\n",
        "optimal_idx = np.argmax(tpr - fpr)\n",
        "optimal_threshold = thresholds[optimal_idx]\n",
        "print(f\"Optimal Threshold: {optimal_threshold:.3f}\")\n",
        "\n",
        "# Use the optimal threshold to make predictions\n",
        "y_pred_optimal = (y_probs_actual >= optimal_threshold).astype(int)\n",
        "\n"
      ]
    },
    {
      "cell_type": "markdown",
      "source": [
        "<font color=\"darkblue\"> The ROC AUC is a powerful metric that provides **a broad measure of a model's ability to distinguish between positive and negative classes across all possible thresholds**.\n",
        "ROC AUC is also a critical tool for detecting model drift; any decline in the AUC score over time can indicate that the model's ability to discriminate between classes is deteriorating, signaling that the model may no longer be as effective as it once was.\n",
        "\n",
        "---\n",
        "\n"
      ],
      "metadata": {
        "id": "DIRwEfqjGzMU"
      }
    },
    {
      "cell_type": "markdown",
      "source": [
        "<font color=\"darkgreen\">**KS score**"
      ],
      "metadata": {
        "id": "fnSjR84lKTxU"
      }
    },
    {
      "cell_type": "code",
      "source": [
        "# Separate predicted probabilities into the positive and negative classes\n",
        "pos_probs = y_probs_actual[y_actual == 1]\n",
        "neg_probs = y_probs_actual[y_actual == 0]\n",
        "\n",
        "# Calculate KS statistic and p-value\n",
        "ks_statistic, p_value = ks_2samp(pos_probs, neg_probs)\n",
        "ks_statistic\n",
        "\n",
        "print(f\"KS Statistic: {ks_statistic:.4f}\")"
      ],
      "metadata": {
        "colab": {
          "base_uri": "https://localhost:8080/"
        },
        "id": "t5tppEvnKGrq",
        "outputId": "ca5d5948-0434-49ab-dd41-068035b9f832"
      },
      "execution_count": 30,
      "outputs": [
        {
          "output_type": "stream",
          "name": "stdout",
          "text": [
            "KS Statistic: 0.7218\n"
          ]
        }
      ]
    },
    {
      "cell_type": "markdown",
      "source": [
        "<font color=\"darkblue\"> **Kolmogorov-Smirnov (KS) score** is a way of comparing the cumulative sum of the positive and negative classes. It measures the maximum difference between the two over the range of predicted probabilities.\n",
        "\n",
        "\n",
        "<font color=\"darkblue\"> A high KS score indicates that the model has a better separation between the positive (goods) and negative classes (bads) at the respective tier. This metric is used widely in the finance and credit risk industry.\n",
        "\n",
        "\n"
      ],
      "metadata": {
        "id": "snHKfeDyOERA"
      }
    },
    {
      "cell_type": "markdown",
      "source": [
        "<font color=\"darkgreen\"> **Confusion Matrix and Classification report**"
      ],
      "metadata": {
        "id": "Fhx5jRTlIyVD"
      }
    },
    {
      "cell_type": "code",
      "source": [
        "# Make predictions\n",
        "y_pred = best_gridsearch_model.predict(X_actual)\n",
        "\n",
        "# Compute confusion matrix\n",
        "conf_matrix = confusion_matrix(y_actual, y_pred)\n",
        "\n",
        "# Convert to DataFrame for better visualization\n",
        "conf_matrix_df = pd.DataFrame(conf_matrix,\n",
        "                              index=['Actual Negative', 'Actual Positive'],\n",
        "                          columns=['Predicted Negative', 'Predicted Positive'])\n",
        "\n",
        "# Print confusion matrix\n",
        "print(\"Confusion Matrix:\")\n",
        "print(conf_matrix_df)"
      ],
      "metadata": {
        "colab": {
          "base_uri": "https://localhost:8080/"
        },
        "id": "jBIt9pHI-onx",
        "outputId": "9a451a44-28fd-479c-c294-7cac945444ab"
      },
      "execution_count": 31,
      "outputs": [
        {
          "output_type": "stream",
          "name": "stdout",
          "text": [
            "Confusion Matrix:\n",
            "                 Predicted Negative  Predicted Positive\n",
            "Actual Negative                 168                  32\n",
            "Actual Positive                  15                  92\n"
          ]
        }
      ]
    },
    {
      "cell_type": "code",
      "source": [
        "# classification_report\n",
        "print(\"\\nAccuracy:\", accuracy_score(y_actual, y_pred))\n",
        "print(\"\\nClassification Report:\")\n",
        "print(classification_report(y_actual, y_pred))"
      ],
      "metadata": {
        "colab": {
          "base_uri": "https://localhost:8080/"
        },
        "id": "QvAqSxgzI_1H",
        "outputId": "750ad593-7ec2-44ee-88c3-bd770122fb1f"
      },
      "execution_count": 32,
      "outputs": [
        {
          "output_type": "stream",
          "name": "stdout",
          "text": [
            "\n",
            "Accuracy: 0.8469055374592834\n",
            "\n",
            "Classification Report:\n",
            "              precision    recall  f1-score   support\n",
            "\n",
            "           0       0.92      0.84      0.88       200\n",
            "           1       0.74      0.86      0.80       107\n",
            "\n",
            "    accuracy                           0.85       307\n",
            "   macro avg       0.83      0.85      0.84       307\n",
            "weighted avg       0.86      0.85      0.85       307\n",
            "\n"
          ]
        }
      ]
    },
    {
      "cell_type": "markdown",
      "source": [
        "<font color=\"darkblue\">The Confusion Matrix and Classification Report offers a detailed breakdown of model performance at a specific threshold, including metrics such as precision, recall, F1-score, and accuracy. This report is essential for understanding how well a model performs in practical, threshold-dependent scenarios, particularly when decisions are made based on specific metrics.\n",
        "\n",
        "<font color=\"darkblue\">While it may be more sensitive to imbalances in the data, the Classification Report provides crucial insights into class-specific performance. Monitoring changes in these metrics over time is also a key method for detecting model drift, as shifts in precision, recall, or F1-score can indicate that the model's predictive power is degrading at the chosen threshold.\n",
        "\n",
        "---\n",
        "\n"
      ],
      "metadata": {
        "id": "__XOJ6h9JRMx"
      }
    },
    {
      "cell_type": "markdown",
      "source": [
        "<font color=\"red\">Now, if we find that the performance metrics above have abnormally low values or if we want to redevelop our model after a year of deployment with future data, here are the methods we can apply. Keep in mind that the real situation may vary case by case"
      ],
      "metadata": {
        "id": "bX-QQZCqR__X"
      }
    },
    {
      "cell_type": "markdown",
      "metadata": {
        "id": "uNxETZve0a77"
      },
      "source": [
        "<font color=\"darkgreen\"> **Reasses Feature Importance - ensure that the key features driving predictions are still relevant**"
      ]
    },
    {
      "cell_type": "code",
      "execution_count": 33,
      "metadata": {
        "colab": {
          "base_uri": "https://localhost:8080/",
          "height": 350
        },
        "id": "0pZO7pRsp8us",
        "outputId": "410931a7-154b-46ff-e060-84206166d737"
      },
      "outputs": [
        {
          "output_type": "execute_result",
          "data": {
            "text/plain": [
              "Text(0.5, 1.0, 'Comparison of Feature Importance')"
            ]
          },
          "metadata": {},
          "execution_count": 33
        },
        {
          "output_type": "display_data",
          "data": {
            "text/plain": [
              "<Figure size 500x300 with 1 Axes>"
            ],
            "image/png": "[encoded data removed]"
          },
          "metadata": {}
        }
      ],
      "source": [
        "# Calculate and sort feature importance for training and validation data\n",
        "train_importance = permutation_importance(best_gridsearch_model, X_expected, y_expected, n_repeats=10, random_state=131).importances_mean\n",
        "actual_importance = permutation_importance(best_gridsearch_model, X_actual, y_actual, n_repeats=10, random_state=131).importances_mean\n",
        "\n",
        "# descending sort\n",
        "sorted_idx = np.argsort(-train_importance)\n",
        "\n",
        "\n",
        "# Comparison plot\n",
        "plt.figure(figsize=(5, 3))\n",
        "plt.bar(np.arange(len(train_importance)) - 0.35/2, train_importance[sorted_idx], width=0.35, label='Train', color='lightblue', alpha=0.6)\n",
        "plt.bar(np.arange(len(train_importance)) + 0.35/2, actual_importance[sorted_idx], width=0.35, label='Future', color='green', alpha=0.6)\n",
        "plt.xticks(np.arange(len(train_importance)), np.array(colname[:-1])[sorted_idx], rotation=45)\n",
        "plt.legend()\n",
        "plt.title(\"Comparison of Feature Importance\")"
      ]
    },
    {
      "cell_type": "markdown",
      "metadata": {
        "id": "WO2vBtv6tPeS"
      },
      "source": [
        "<font color=\"darkblue\">**Summary: when variables are highly correlated, the feature importance rankings may become less stable, potentially leading to variability in the importance assigned to different features.**\n",
        "\n",
        "<font color=\"darkblue\">Domain Knowledge Evaluation: If the model assigns high importance to a feature that domain experts consider irrelevant, this could indicate an issue with the data or underlying model assumptions.\n",
        "\n",
        "\n",
        "---\n",
        "\n",
        "\n"
      ]
    },
    {
      "cell_type": "markdown",
      "source": [
        "<font color=\"darkgreen\">**Threshold Sensitivity**"
      ],
      "metadata": {
        "id": "TTAXwXlXawVe"
      }
    },
    {
      "cell_type": "code",
      "execution_count": 34,
      "metadata": {
        "colab": {
          "base_uri": "https://localhost:8080/",
          "height": 369
        },
        "id": "qZWXZ5P6M_k1",
        "outputId": "3d446f65-0774-416c-d10c-aaee43a600ab"
      },
      "outputs": [
        {
          "output_type": "stream",
          "name": "stdout",
          "text": [
            "Optimal Threshold: 0.60\n",
            "Precision: 0.8469, Recall: 0.7757, F1-Score: 0.8098\n"
          ]
        },
        {
          "output_type": "display_data",
          "data": {
            "text/plain": [
              "<Figure size 400x300 with 1 Axes>"
            ],
            "image/png": "[encoded data removed]"
          },
          "metadata": {}
        }
      ],
      "source": [
        "# Function to analyze threshold sensitivity and find the optimal threshold\n",
        "def threshold_sensitivity_analysis(model, X, y, thresholds):\n",
        "    metrics = []\n",
        "    for threshold in thresholds:\n",
        "        y_pred = (model.predict_proba(X)[:, 1] >= threshold).astype(int)\n",
        "        precision = precision_score(y, y_pred)\n",
        "        recall = recall_score(y, y_pred)\n",
        "        f1 = f1_score(y, y_pred)\n",
        "        metrics.append({'threshold': threshold, 'precision': precision, 'recall': recall, 'f1': f1})\n",
        "    return metrics\n",
        "\n",
        "#  with future data\n",
        "thresholds = np.arange(0.1, 1.0, 0.1)\n",
        "threshold_metrics = threshold_sensitivity_analysis(best_gridsearch_model, X_actual, y_actual, thresholds)\n",
        "\n",
        "# Find the threshold with the highest F1-score\n",
        "optimal_metric = max(threshold_metrics, key=lambda x: x['f1'])\n",
        "\n",
        "# show it\n",
        "print(f\"Optimal Threshold: {optimal_metric['threshold']:.2f}\")\n",
        "print(f\"Precision: {optimal_metric['precision']:.4f}, Recall: {optimal_metric['recall']:.4f}, F1-Score: {optimal_metric['f1']:.4f}\")\n",
        "\n",
        "# Plot the threshold sensitivity analysis results\n",
        "plt.figure(figsize=(4, 3))\n",
        "for metric in ['precision', 'recall', 'f1']:\n",
        "    plt.plot(thresholds, [m[metric] for m in threshold_metrics], label=metric)\n",
        "plt.xlabel('Threshold')\n",
        "plt.ylabel('Score')\n",
        "plt.title('Threshold Sensitivity Analysis')\n",
        "plt.legend()\n",
        "plt.show()"
      ]
    },
    {
      "cell_type": "markdown",
      "source": [
        "<font color=\"darkblue\">**Detecting Performance Shifts:** After a model has been deployed for a year, the underlying data distribution may change, leading to performance degradation. A threshold sensitivity test helps identify how these changes affect the model’s performance at various thresholds. If the model’s performance drops sharply at certain thresholds, it could indicate that the model is no longer well-calibrated to the current data, signaling the need for retraining or redevelopment.\n",
        "\n",
        "<font color=\"darkblue\">Additionally, this method is also effective in **evaluating Stability Across Thresholds and Optimizing for Business Objectives** when redeveloping the model.\n",
        "\n",
        "---\n",
        "\n"
      ],
      "metadata": {
        "id": "8FgotZXIXgUe"
      }
    },
    {
      "cell_type": "markdown",
      "metadata": {
        "id": "YBJJMKRkecvB"
      },
      "source": [
        "<font color=\"darkgreen\">**Hyperparameter Sensitivity: with an alternative set of parameters**"
      ]
    },
    {
      "cell_type": "code",
      "execution_count": 65,
      "metadata": {
        "colab": {
          "base_uri": "https://localhost:8080/"
        },
        "id": "PGyf6NuZPQRS",
        "outputId": "de7b1cbd-1659-4a15-ec1f-d78cd7ba6bea"
      },
      "outputs": [
        {
          "output_type": "stream",
          "name": "stdout",
          "text": [
            "Best F1 Score from Hyperparameter Sensitivity Analysis: 0.7242\n"
          ]
        }
      ],
      "source": [
        "def hyperparameter_sensitivity_analysis(X_train, y_train, best_params):\n",
        "    # Define a grid around the best hyperparameters\n",
        "    param_grid = {'n_estimators': [best_params['n_estimators'] - 10, best_params['n_estimators'], best_params['n_estimators'] + 10],\n",
        "        'max_depth': [best_params['max_depth'] - 1, best_params['max_depth'], best_params['max_depth'] + 1],\n",
        "        'min_samples_split': [best_params['min_samples_split'] - 5, best_params['min_samples_split'] + 5],\n",
        "        'min_samples_leaf': [best_params['min_samples_leaf'] - 2, best_params['min_samples_leaf'] + 2],\n",
        "        'max_features': [best_params['max_features']],\n",
        "        'criterion': [best_params['criterion']],\n",
        "        'bootstrap': [best_params['bootstrap']]\n",
        "    }\n",
        "\n",
        "    # Perform GridSearchCV to evaluate the impact of these variations\n",
        "    grid_search = GridSearchCV(estimator=RandomForestClassifier(random_state=131),\n",
        "                               param_grid=param_grid,\n",
        "                               cv=5,\n",
        "                               scoring='f1_macro',\n",
        "                               n_jobs=-1)\n",
        "    grid_search.fit(X_train, y_train)\n",
        "    return grid_search.best_score_\n",
        "\n",
        "# Just use F1 score as an example, we can use other metrics (precision, recall, accuracy, KS) as needed\n",
        "best_params = best_gridsearch_model\n",
        "hyperparameter_sensitivity_score = hyperparameter_sensitivity_analysis(X_actual, y_actual, best_gs_params)\n",
        "print(f\"Best F1 Score from Hyperparameter Sensitivity Analysis: {hyperparameter_sensitivity_score:.4f}\")\n"
      ]
    },
    {
      "cell_type": "markdown",
      "source": [
        "<font color=\"darkblue\">Hyperparameter sensitivity analysis is essential when redeveloping a model after performance degradation or updating it with new data, as the optimal hyperparameter settings may have shifted. Identifying these optimal settings ensures that the model performs at its best.\n",
        "\n",
        "---\n",
        "\n"
      ],
      "metadata": {
        "id": "2DNj9WtFa5bn"
      }
    },
    {
      "cell_type": "markdown",
      "metadata": {
        "id": "8ZtqE1WddF-a"
      },
      "source": [
        "<font color=\"darkgreen\">**Feature Dropping**"
      ]
    },
    {
      "cell_type": "code",
      "execution_count": 66,
      "metadata": {
        "colab": {
          "base_uri": "https://localhost:8080/"
        },
        "id": "ZYT5k8SidIyr",
        "outputId": "7b950d7f-c0c4-4ed5-8e61-66b5aebc0037"
      },
      "outputs": [
        {
          "output_type": "stream",
          "name": "stdout",
          "text": [
            "      accuracy  precision    recall  f1_score   roc_auc\n",
            "var1  0.766234   0.586207  0.739130  0.653846  0.846216\n",
            "var2  0.649351   0.442857  0.673913  0.534483  0.708132\n",
            "var3  0.766234   0.596154  0.673913  0.632653  0.830113\n",
            "var4  0.753247   0.574074  0.673913  0.620000  0.833535\n",
            "var5  0.707792   0.508197  0.673913  0.579439  0.820853\n",
            "var6  0.759740   0.584906  0.673913  0.626263  0.815620\n",
            "var7  0.766234   0.592593  0.695652  0.640000  0.836957\n",
            "var8  0.753247   0.568966  0.717391  0.634615  0.795491\n"
          ]
        }
      ],
      "source": [
        "key_features = colname[:-1]\n",
        "\n",
        "# Function to drop a feature, re-train the model, and evaluate performance\n",
        "def drop_feature_and_evaluate(model, X_train, y_train, X_test, y_test, feature_to_drop):\n",
        "    X_train_dropped = X_train.drop(columns=[feature_to_drop])\n",
        "    X_test_dropped = X_test.drop(columns=[feature_to_drop])\n",
        "\n",
        "    # Re-train the model\n",
        "    model.fit(X_train_dropped, y_train)\n",
        "\n",
        "    # Evaluate the model\n",
        "    y_pred = model.predict(X_test_dropped)\n",
        "    y_proba = model.predict_proba(X_test_dropped)[:, 1]\n",
        "    performance_metrics = {\n",
        "        'accuracy': accuracy_score(y_test, y_pred),\n",
        "        'precision': precision_score(y_test, y_pred),\n",
        "        'recall': recall_score(y_test, y_pred),\n",
        "        'f1_score': f1_score(y_test, y_pred),\n",
        "        'roc_auc': roc_auc_score(y_test, y_proba)\n",
        "    }\n",
        "    return performance_metrics\n",
        "\n",
        "# Scenario analysis: Drop each key feature and compare model performance\n",
        "results = {}\n",
        "for feature in key_features:\n",
        "    metrics = drop_feature_and_evaluate(best_gridsearch_model, pd.DataFrame(X_train_resampled, columns=key_features),\n",
        "                                        y_train_resampled, pd.DataFrame(X_test, columns=key_features),\n",
        "                                        y_test, feature)\n",
        "    results[feature] = metrics\n",
        "\n",
        "# Display the results\n",
        "results_df = pd.DataFrame(results).T  # Transpose for better readability\n",
        "print(results_df)"
      ]
    },
    {
      "cell_type": "markdown",
      "source": [
        "<font color=\"darkblue\"> Feature dropping is a valuable method when redeveloping a model after detecting performance issues or updating it with new data. It helps identify and eliminate redundant features, improve model stability and interpretability, and prevent overfitting, ensuring that the redeveloped model is more robust, efficient, and better suited to current data. This process, combined with other methods like hyperparameter sensitivity analysis, ensures that the model continues to perform optimally in evolving data environments.\n",
        "\n",
        "---\n",
        "\n"
      ],
      "metadata": {
        "id": "SOG0e4WReysD"
      }
    },
    {
      "cell_type": "markdown",
      "metadata": {
        "id": "_EejtlMOaRKn"
      },
      "source": [
        "<font color=\"darkgreen\"> **Benchmark model Analysis**"
      ]
    },
    {
      "cell_type": "code",
      "execution_count": null,
      "metadata": {
        "colab": {
          "base_uri": "https://localhost:8080/"
        },
        "id": "aGhlVYGlZpDx",
        "outputId": "aa9b0734-74a3-445c-9124-b71ec21df082"
      },
      "outputs": [
        {
          "output_type": "stream",
          "name": "stdout",
          "text": [
            "\n",
            "Logistic Regression Performance:\n",
            "Precision: 0.6480\n",
            "Recall: 0.7570\n",
            "F1-Score: 0.6983\n"
          ]
        }
      ],
      "source": [
        "# Train Logistic Regression Model\n",
        "logistic_model = LogisticRegression(random_state=42, solver='liblinear')\n",
        "logistic_model.fit(X_train_resampled, y_train_resampled)\n",
        "\n",
        "# Predict probabilities for the positive class\n",
        "y_proba_logistic = logistic_model.predict_proba(X_actual)[:, 1]\n",
        "\n",
        "# Compute ROC curve and AUC for Logistic Regression\n",
        "fpr_logistic, tpr_logistic, _ = roc_curve(y_actual, y_proba_logistic)\n",
        "roc_auc_logistic = auc(fpr_logistic, tpr_logistic)\n",
        "\n",
        "# Additional Performance Metrics\n",
        "y_pred_logistic = logistic_model.predict(X_actual)\n",
        "\n",
        "print(\"\\nLogistic Regression Performance:\")\n",
        "print(f\"Precision: {precision_score(y_actual, y_pred_logistic):.4f}\")\n",
        "print(f\"Recall: {recall_score(y_actual, y_pred_logistic):.4f}\")\n",
        "print(f\"F1-Score: {f1_score(y_actual, y_pred_logistic):.4f}\")"
      ]
    },
    {
      "cell_type": "markdown",
      "source": [
        "<font color=\"darkblue\"> **Performance Reference:** A benchmark model provides a baseline against which the performance of more complex models can be compared. This baseline helps determine whether the more sophisticated model truly offers an improvement over a simpler approach.\n",
        "\n",
        "<font color=\"darkblue\"> **Change Detection**: By continuously comparing the performance of your deployed model against the benchmark, you can detect model drift.\n",
        "\n",
        "<font color=\"darkblue\"> **Evaluation of Enhancements**: Whenever changes are made to the model—such as hyperparameter tuning, feature engineering, or the introduction of new data—the benchmark model provides a reference point to evaluate whether these modifications lead to actual performance improvements.\n",
        "\n",
        "---\n",
        "\n"
      ],
      "metadata": {
        "id": "lsOodKY3kGY2"
      }
    },
    {
      "cell_type": "markdown",
      "source": [
        "## Implementation & Deployment"
      ],
      "metadata": {
        "id": "Fe0fkQRz9Fmb"
      }
    },
    {
      "cell_type": "markdown",
      "source": [
        "<font color=\"darkgreen\"> **Latency**"
      ],
      "metadata": {
        "id": "7wl78rKBoCdr"
      }
    },
    {
      "cell_type": "code",
      "execution_count": null,
      "metadata": {
        "colab": {
          "base_uri": "https://localhost:8080/"
        },
        "id": "uUdEO2aEbTCk",
        "outputId": "2f0cf558-2fde-4401-dc8e-1c76ed5b61fc"
      },
      "outputs": [
        {
          "output_type": "stream",
          "name": "stdout",
          "text": [
            "Average Latency: 0.021318 seconds\n",
            "Maximum Latency: 0.088682 seconds\n",
            "Minimum Latency: 0.007579 seconds\n"
          ]
        }
      ],
      "source": [
        "# Perform latency check\n",
        "latencies = []\n",
        "for sample in X_actual:\n",
        "    start_time = time.time()  # Record the start time\n",
        "    # Reshape the sample to be 2D\n",
        "    sample = sample.reshape(1, -1)\n",
        "\n",
        "    # Make a prediction\n",
        "    prediction = best_gridsearch_model.predict(sample)\n",
        "\n",
        "    end_time = time.time()  # Record the end time\n",
        "\n",
        "    # Calculate latency\n",
        "    latency = end_time - start_time\n",
        "    latencies.append(latency)\n",
        "\n",
        "# Calculate average latency\n",
        "average_latency = np.mean(latencies)\n",
        "max_latency = np.max(latencies)\n",
        "min_latency = np.min(latencies)\n",
        "\n",
        "print(f\"Average Latency: {average_latency:.6f} seconds\")\n",
        "print(f\"Maximum Latency: {max_latency:.6f} seconds\")\n",
        "print(f\"Minimum Latency: {min_latency:.6f} seconds\")"
      ]
    },
    {
      "cell_type": "markdown",
      "source": [
        "<font color=\"darkblue\">Latency checks are beneficial for enhancing user experience, facilitating effective scaling, enabling early issue detection, optimizing resource usage, and maintaining system reliability and efficiency.\n",
        "\n",
        "---\n",
        "\n"
      ],
      "metadata": {
        "id": "8P-oedlfre2N"
      }
    },
    {
      "cell_type": "markdown",
      "metadata": {
        "id": "a3YvZIhuOYCr"
      },
      "source": [
        "<font color=\"darkgreen\">**Threshold Alerts**"
      ]
    },
    {
      "cell_type": "code",
      "execution_count": null,
      "metadata": {
        "collapsed": true,
        "id": "y7tnU2KsMyFW"
      },
      "outputs": [],
      "source": [
        "# Example of performance monitoring in code\n",
        "accuracy = accuracy_score(y_test, y_test_pred)\n",
        "f1 = f1_score(y_test, y_test_pred, average='macro')\n",
        "\n",
        "# Let's set accuracy_threshold, f1_threshold, and cpu_threshold manually\n",
        "accuracy_threshold = 0.61\n",
        "f1_threshold = 0.6\n",
        "cpu_threshold = 80.0\n",
        "\n",
        "# Monitor current CPU usage\n",
        "cpu_usage = psutil.cpu_percent(interval=1)\n",
        "\n",
        "if cpu_usage > cpu_threshold:\n",
        "    print(f\"ALERT: CPU usage is high at {cpu_usage}%!\")\n",
        "\n",
        "# Alert if performance drops below thresholds\n",
        "if accuracy < accuracy_threshold or f1 < f1_threshold:\n",
        "    print(\"ALERT: Model performance has dropped below acceptable thresholds!\")\n"
      ]
    },
    {
      "cell_type": "markdown",
      "source": [
        "<font color=\"darkblue\">Threshold detection, not only for evaluation metrics but also for CPU, memory, and resource usage, is beneficial in the following ways: early detection of performance issues, ensuring model stability, responding quickly to data drift, supporting continuous model improvement, minimizing business impact, managing resources efficiently, and enabling automated responses.\n",
        "\n",
        "---\n",
        "\n"
      ],
      "metadata": {
        "id": "oJcnaO2XshKK"
      }
    },
    {
      "cell_type": "markdown",
      "source": [
        "<font color=\"darkgreen\">**Business Metrics Monitoring**"
      ],
      "metadata": {
        "id": "t8rVflYs9bmx"
      }
    },
    {
      "cell_type": "code",
      "source": [
        "# Sample DataFrame with revenue, CTR, and churn rate over different time periods\n",
        "data = {\n",
        "    'time_period': ['2023-Q1', '2023-Q2', '2023-Q3', '2023-Q4'],\n",
        "    'revenue': [10000, 12000, 11500, 9000],\n",
        "    'click_through_rate': [0.05, 0.06, 0.055, 0.045],\n",
        "    'churn_rate': [0.10, 0.09, 0.11, 0.13]\n",
        "}\n",
        "\n",
        "df = pd.DataFrame(data)\n",
        "\n",
        "# Calculate percentage change in revenue, CTR, and churn rate between time periods\n",
        "df['revenue_change'] = df['revenue'].pct_change() * 100\n",
        "df['ctr_change'] = df['click_through_rate'].pct_change() * 100\n",
        "df['churn_rate_change'] = df['churn_rate'].pct_change() * 100\n",
        "\n",
        "# Detect significant changes (thresholds can be adjusted)\n",
        "revenue_threshold = -10  # Example: Detect if revenue drops by more than 10%\n",
        "ctr_threshold = -5       # Example: Detect if CTR drops by more than 5%\n",
        "churn_threshold = 5      # Example: Detect if churn rate increases by more than 5%\n",
        "\n",
        "# Add columns to flag significant changes\n",
        "df['revenue_alert'] = np.where(df['revenue_change'] < revenue_threshold, 'ALERT: Revenue drop!', '')\n",
        "df['ctr_alert'] = np.where(df['ctr_change'] < ctr_threshold, 'ALERT: CTR drop!', '')\n",
        "df['churn_alert'] = np.where(df['churn_rate_change'] > churn_threshold, 'ALERT: Churn rate increase!', '')\n",
        "\n",
        "# Display the DataFrame with calculated changes and alerts\n",
        "df"
      ],
      "metadata": {
        "colab": {
          "base_uri": "https://localhost:8080/",
          "height": 175
        },
        "id": "kigrolRVsBHd",
        "outputId": "b7a7fd01-a1e2-40cc-c372-143969b83d09"
      },
      "execution_count": null,
      "outputs": [
        {
          "output_type": "execute_result",
          "data": {
            "text/plain": [
              "  time_period  revenue  click_through_rate  churn_rate  revenue_change  \\\n",
              "0     2023-Q1    10000               0.050        0.10             NaN   \n",
              "1     2023-Q2    12000               0.060        0.09       20.000000   \n",
              "2     2023-Q3    11500               0.055        0.11       -4.166667   \n",
              "3     2023-Q4     9000               0.045        0.13      -21.739130   \n",
              "\n",
              "   ctr_change  churn_rate_change         revenue_alert         ctr_alert  \\\n",
              "0         NaN                NaN                                           \n",
              "1   20.000000         -10.000000                                           \n",
              "2   -8.333333          22.222222                        ALERT: CTR drop!   \n",
              "3  -18.181818          18.181818  ALERT: Revenue drop!  ALERT: CTR drop!   \n",
              "\n",
              "                   churn_alert  \n",
              "0                               \n",
              "1                               \n",
              "2  ALERT: Churn rate increase!  \n",
              "3  ALERT: Churn rate increase!  "
            ],
            "text/html": [
              "\n",
              "  <div id=\"df-bfe55812-3ee3-4c3c-9db3-82156a3a9603\" class=\"colab-df-container\">\n",
              "    <div>\n",
              "<style scoped>\n",
              "    .dataframe tbody tr th:only-of-type {\n",
              "        vertical-align: middle;\n",
              "    }\n",
              "\n",
              "    .dataframe tbody tr th {\n",
              "        vertical-align: top;\n",
              "    }\n",
              "\n",
              "    .dataframe thead th {\n",
              "        text-align: right;\n",
              "    }\n",
              "</style>\n",
              "<table border=\"1\" class=\"dataframe\">\n",
              "  <thead>\n",
              "    <tr style=\"text-align: right;\">\n",
              "      <th></th>\n",
              "      <th>time_period</th>\n",
              "      <th>revenue</th>\n",
              "      <th>click_through_rate</th>\n",
              "      <th>churn_rate</th>\n",
              "      <th>revenue_change</th>\n",
              "      <th>ctr_change</th>\n",
              "      <th>churn_rate_change</th>\n",
              "      <th>revenue_alert</th>\n",
              "      <th>ctr_alert</th>\n",
              "      <th>churn_alert</th>\n",
              "    </tr>\n",
              "  </thead>\n",
              "  <tbody>\n",
              "    <tr>\n",
              "      <th>0</th>\n",
              "      <td>2023-Q1</td>\n",
              "      <td>10000</td>\n",
              "      <td>0.050</td>\n",
              "      <td>0.10</td>\n",
              "      <td>NaN</td>\n",
              "      <td>NaN</td>\n",
              "      <td>NaN</td>\n",
              "      <td></td>\n",
              "      <td></td>\n",
              "      <td></td>\n",
              "    </tr>\n",
              "    <tr>\n",
              "      <th>1</th>\n",
              "      <td>2023-Q2</td>\n",
              "      <td>12000</td>\n",
              "      <td>0.060</td>\n",
              "      <td>0.09</td>\n",
              "      <td>20.000000</td>\n",
              "      <td>20.000000</td>\n",
              "      <td>-10.000000</td>\n",
              "      <td></td>\n",
              "      <td></td>\n",
              "      <td></td>\n",
              "    </tr>\n",
              "    <tr>\n",
              "      <th>2</th>\n",
              "      <td>2023-Q3</td>\n",
              "      <td>11500</td>\n",
              "      <td>0.055</td>\n",
              "      <td>0.11</td>\n",
              "      <td>-4.166667</td>\n",
              "      <td>-8.333333</td>\n",
              "      <td>22.222222</td>\n",
              "      <td></td>\n",
              "      <td>ALERT: CTR drop!</td>\n",
              "      <td>ALERT: Churn rate increase!</td>\n",
              "    </tr>\n",
              "    <tr>\n",
              "      <th>3</th>\n",
              "      <td>2023-Q4</td>\n",
              "      <td>9000</td>\n",
              "      <td>0.045</td>\n",
              "      <td>0.13</td>\n",
              "      <td>-21.739130</td>\n",
              "      <td>-18.181818</td>\n",
              "      <td>18.181818</td>\n",
              "      <td>ALERT: Revenue drop!</td>\n",
              "      <td>ALERT: CTR drop!</td>\n",
              "      <td>ALERT: Churn rate increase!</td>\n",
              "    </tr>\n",
              "  </tbody>\n",
              "</table>\n",
              "</div>\n",
              "    <div class=\"colab-df-buttons\">\n",
              "\n",
              "  <div class=\"colab-df-container\">\n",
              "    <button class=\"colab-df-convert\" onclick=\"convertToInteractive('df-bfe55812-3ee3-4c3c-9db3-82156a3a9603')\"\n",
              "            title=\"Convert this dataframe to an interactive table.\"\n",
              "            style=\"display:none;\">\n",
              "\n",
              "  <svg xmlns=\"http://www.w3.org/2000/svg\" height=\"24px\" viewBox=\"0 -960 960 960\">\n",
              "    <path d=\"M120-120v-720h720v720H120Zm60-500h600v-160H180v160Zm220 220h160v-160H400v160Zm0 220h160v-160H400v160ZM180-400h160v-160H180v160Zm440 0h160v-160H620v160ZM180-180h160v-160H180v160Zm440 0h160v-160H620v160Z\"/>\n",
              "  </svg>\n",
              "    </button>\n",
              "\n",
              "  <style>\n",
              "    .colab-df-container {\n",
              "      display:flex;\n",
              "      gap: 12px;\n",
              "    }\n",
              "\n",
              "    .colab-df-convert {\n",
              "      background-color: #E8F0FE;\n",
              "      border: none;\n",
              "      border-radius: 50%;\n",
              "      cursor: pointer;\n",
              "      display: none;\n",
              "      fill: #1967D2;\n",
              "      height: 32px;\n",
              "      padding: 0 0 0 0;\n",
              "      width: 32px;\n",
              "    }\n",
              "\n",
              "    .colab-df-convert:hover {\n",
              "      background-color: #E2EBFA;\n",
              "      box-shadow: 0px 1px 2px rgba(60, 64, 67, 0.3), 0px 1px 3px 1px rgba(60, 64, 67, 0.15);\n",
              "      fill: #174EA6;\n",
              "    }\n",
              "\n",
              "    .colab-df-buttons div {\n",
              "      margin-bottom: 4px;\n",
              "    }\n",
              "\n",
              "    [theme=dark] .colab-df-convert {\n",
              "      background-color: #3B4455;\n",
              "      fill: #D2E3FC;\n",
              "    }\n",
              "\n",
              "    [theme=dark] .colab-df-convert:hover {\n",
              "      background-color: #434B5C;\n",
              "      box-shadow: 0px 1px 3px 1px rgba(0, 0, 0, 0.15);\n",
              "      filter: drop-shadow(0px 1px 2px rgba(0, 0, 0, 0.3));\n",
              "      fill: #FFFFFF;\n",
              "    }\n",
              "  </style>\n",
              "\n",
              "    <script>\n",
              "      const buttonEl =\n",
              "        document.querySelector('#df-bfe55812-3ee3-4c3c-9db3-82156a3a9603 button.colab-df-convert');\n",
              "      buttonEl.style.display =\n",
              "        google.colab.kernel.accessAllowed ? 'block' : 'none';\n",
              "\n",
              "      async function convertToInteractive(key) {\n",
              "        const element = document.querySelector('#df-bfe55812-3ee3-4c3c-9db3-82156a3a9603');\n",
              "        const dataTable =\n",
              "          await google.colab.kernel.invokeFunction('convertToInteractive',\n",
              "                                                    [key], {});\n",
              "        if (!dataTable) return;\n",
              "\n",
              "        const docLinkHtml = 'Like what you see? Visit the ' +\n",
              "          '<a target=\"_blank\" href=https://colab.research.google.com/notebooks/data_table.ipynb>data table notebook</a>'\n",
              "          + ' to learn more about interactive tables.';\n",
              "        element.innerHTML = '';\n",
              "        dataTable['output_type'] = 'display_data';\n",
              "        await google.colab.output.renderOutput(dataTable, element);\n",
              "        const docLink = document.createElement('div');\n",
              "        docLink.innerHTML = docLinkHtml;\n",
              "        element.appendChild(docLink);\n",
              "      }\n",
              "    </script>\n",
              "  </div>\n",
              "\n",
              "\n",
              "<div id=\"df-5ef97adc-f215-4e57-b6f0-fb0cf6a257b3\">\n",
              "  <button class=\"colab-df-quickchart\" onclick=\"quickchart('df-5ef97adc-f215-4e57-b6f0-fb0cf6a257b3')\"\n",
              "            title=\"Suggest charts\"\n",
              "            style=\"display:none;\">\n",
              "\n",
              "<svg xmlns=\"http://www.w3.org/2000/svg\" height=\"24px\"viewBox=\"0 0 24 24\"\n",
              "     width=\"24px\">\n",
              "    <g>\n",
              "        <path d=\"M19 3H5c-1.1 0-2 .9-2 2v14c0 1.1.9 2 2 2h14c1.1 0 2-.9 2-2V5c0-1.1-.9-2-2-2zM9 17H7v-7h2v7zm4 0h-2V7h2v10zm4 0h-2v-4h2v4z\"/>\n",
              "    </g>\n",
              "</svg>\n",
              "  </button>\n",
              "\n",
              "<style>\n",
              "  .colab-df-quickchart {\n",
              "      --bg-color: #E8F0FE;\n",
              "      --fill-color: #1967D2;\n",
              "      --hover-bg-color: #E2EBFA;\n",
              "      --hover-fill-color: #174EA6;\n",
              "      --disabled-fill-color: #AAA;\n",
              "      --disabled-bg-color: #DDD;\n",
              "  }\n",
              "\n",
              "  [theme=dark] .colab-df-quickchart {\n",
              "      --bg-color: #3B4455;\n",
              "      --fill-color: #D2E3FC;\n",
              "      --hover-bg-color: #434B5C;\n",
              "      --hover-fill-color: #FFFFFF;\n",
              "      --disabled-bg-color: #3B4455;\n",
              "      --disabled-fill-color: #666;\n",
              "  }\n",
              "\n",
              "  .colab-df-quickchart {\n",
              "    background-color: var(--bg-color);\n",
              "    border: none;\n",
              "    border-radius: 50%;\n",
              "    cursor: pointer;\n",
              "    display: none;\n",
              "    fill: var(--fill-color);\n",
              "    height: 32px;\n",
              "    padding: 0;\n",
              "    width: 32px;\n",
              "  }\n",
              "\n",
              "  .colab-df-quickchart:hover {\n",
              "    background-color: var(--hover-bg-color);\n",
              "    box-shadow: 0 1px 2px rgba(60, 64, 67, 0.3), 0 1px 3px 1px rgba(60, 64, 67, 0.15);\n",
              "    fill: var(--button-hover-fill-color);\n",
              "  }\n",
              "\n",
              "  .colab-df-quickchart-complete:disabled,\n",
              "  .colab-df-quickchart-complete:disabled:hover {\n",
              "    background-color: var(--disabled-bg-color);\n",
              "    fill: var(--disabled-fill-color);\n",
              "    box-shadow: none;\n",
              "  }\n",
              "\n",
              "  .colab-df-spinner {\n",
              "    border: 2px solid var(--fill-color);\n",
              "    border-color: transparent;\n",
              "    border-bottom-color: var(--fill-color);\n",
              "    animation:\n",
              "      spin 1s steps(1) infinite;\n",
              "  }\n",
              "\n",
              "  @keyframes spin {\n",
              "    0% {\n",
              "      border-color: transparent;\n",
              "      border-bottom-color: var(--fill-color);\n",
              "      border-left-color: var(--fill-color);\n",
              "    }\n",
              "    20% {\n",
              "      border-color: transparent;\n",
              "      border-left-color: var(--fill-color);\n",
              "      border-top-color: var(--fill-color);\n",
              "    }\n",
              "    30% {\n",
              "      border-color: transparent;\n",
              "      border-left-color: var(--fill-color);\n",
              "      border-top-color: var(--fill-color);\n",
              "      border-right-color: var(--fill-color);\n",
              "    }\n",
              "    40% {\n",
              "      border-color: transparent;\n",
              "      border-right-color: var(--fill-color);\n",
              "      border-top-color: var(--fill-color);\n",
              "    }\n",
              "    60% {\n",
              "      border-color: transparent;\n",
              "      border-right-color: var(--fill-color);\n",
              "    }\n",
              "    80% {\n",
              "      border-color: transparent;\n",
              "      border-right-color: var(--fill-color);\n",
              "      border-bottom-color: var(--fill-color);\n",
              "    }\n",
              "    90% {\n",
              "      border-color: transparent;\n",
              "      border-bottom-color: var(--fill-color);\n",
              "    }\n",
              "  }\n",
              "</style>\n",
              "\n",
              "  <script>\n",
              "    async function quickchart(key) {\n",
              "      const quickchartButtonEl =\n",
              "        document.querySelector('#' + key + ' button');\n",
              "      quickchartButtonEl.disabled = true;  // To prevent multiple clicks.\n",
              "      quickchartButtonEl.classList.add('colab-df-spinner');\n",
              "      try {\n",
              "        const charts = await google.colab.kernel.invokeFunction(\n",
              "            'suggestCharts', [key], {});\n",
              "      } catch (error) {\n",
              "        console.error('Error during call to suggestCharts:', error);\n",
              "      }\n",
              "      quickchartButtonEl.classList.remove('colab-df-spinner');\n",
              "      quickchartButtonEl.classList.add('colab-df-quickchart-complete');\n",
              "    }\n",
              "    (() => {\n",
              "      let quickchartButtonEl =\n",
              "        document.querySelector('#df-5ef97adc-f215-4e57-b6f0-fb0cf6a257b3 button');\n",
              "      quickchartButtonEl.style.display =\n",
              "        google.colab.kernel.accessAllowed ? 'block' : 'none';\n",
              "    })();\n",
              "  </script>\n",
              "</div>\n",
              "\n",
              "  <div id=\"id_755b847b-b5dc-4c61-be50-d9f7770ac201\">\n",
              "    <style>\n",
              "      .colab-df-generate {\n",
              "        background-color: #E8F0FE;\n",
              "        border: none;\n",
              "        border-radius: 50%;\n",
              "        cursor: pointer;\n",
              "        display: none;\n",
              "        fill: #1967D2;\n",
              "        height: 32px;\n",
              "        padding: 0 0 0 0;\n",
              "        width: 32px;\n",
              "      }\n",
              "\n",
              "      .colab-df-generate:hover {\n",
              "        background-color: #E2EBFA;\n",
              "        box-shadow: 0px 1px 2px rgba(60, 64, 67, 0.3), 0px 1px 3px 1px rgba(60, 64, 67, 0.15);\n",
              "        fill: #174EA6;\n",
              "      }\n",
              "\n",
              "      [theme=dark] .colab-df-generate {\n",
              "        background-color: #3B4455;\n",
              "        fill: #D2E3FC;\n",
              "      }\n",
              "\n",
              "      [theme=dark] .colab-df-generate:hover {\n",
              "        background-color: #434B5C;\n",
              "        box-shadow: 0px 1px 3px 1px rgba(0, 0, 0, 0.15);\n",
              "        filter: drop-shadow(0px 1px 2px rgba(0, 0, 0, 0.3));\n",
              "        fill: #FFFFFF;\n",
              "      }\n",
              "    </style>\n",
              "    <button class=\"colab-df-generate\" onclick=\"generateWithVariable('df')\"\n",
              "            title=\"Generate code using this dataframe.\"\n",
              "            style=\"display:none;\">\n",
              "\n",
              "  <svg xmlns=\"http://www.w3.org/2000/svg\" height=\"24px\"viewBox=\"0 0 24 24\"\n",
              "       width=\"24px\">\n",
              "    <path d=\"M7,19H8.4L18.45,9,17,7.55,7,17.6ZM5,21V16.75L18.45,3.32a2,2,0,0,1,2.83,0l1.4,1.43a1.91,1.91,0,0,1,.58,1.4,1.91,1.91,0,0,1-.58,1.4L9.25,21ZM18.45,9,17,7.55Zm-12,3A5.31,5.31,0,0,0,4.9,8.1,5.31,5.31,0,0,0,1,6.5,5.31,5.31,0,0,0,4.9,4.9,5.31,5.31,0,0,0,6.5,1,5.31,5.31,0,0,0,8.1,4.9,5.31,5.31,0,0,0,12,6.5,5.46,5.46,0,0,0,6.5,12Z\"/>\n",
              "  </svg>\n",
              "    </button>\n",
              "    <script>\n",
              "      (() => {\n",
              "      const buttonEl =\n",
              "        document.querySelector('#id_755b847b-b5dc-4c61-be50-d9f7770ac201 button.colab-df-generate');\n",
              "      buttonEl.style.display =\n",
              "        google.colab.kernel.accessAllowed ? 'block' : 'none';\n",
              "\n",
              "      buttonEl.onclick = () => {\n",
              "        google.colab.notebook.generateWithVariable('df');\n",
              "      }\n",
              "      })();\n",
              "    </script>\n",
              "  </div>\n",
              "\n",
              "    </div>\n",
              "  </div>\n"
            ],
            "application/vnd.google.colaboratory.intrinsic+json": {
              "type": "dataframe",
              "variable_name": "df",
              "summary": "{\n  \"name\": \"df\",\n  \"rows\": 4,\n  \"fields\": [\n    {\n      \"column\": \"time_period\",\n      \"properties\": {\n        \"dtype\": \"object\",\n        \"num_unique_values\": 4,\n        \"samples\": [\n          \"2023-Q2\",\n          \"2023-Q4\",\n          \"2023-Q1\"\n        ],\n        \"semantic_type\": \"\",\n        \"description\": \"\"\n      }\n    },\n    {\n      \"column\": \"revenue\",\n      \"properties\": {\n        \"dtype\": \"number\",\n        \"std\": 1376,\n        \"min\": 9000,\n        \"max\": 12000,\n        \"num_unique_values\": 4,\n        \"samples\": [\n          12000,\n          9000,\n          10000\n        ],\n        \"semantic_type\": \"\",\n        \"description\": \"\"\n      }\n    },\n    {\n      \"column\": \"click_through_rate\",\n      \"properties\": {\n        \"dtype\": \"number\",\n        \"std\": 0.006454972243679027,\n        \"min\": 0.045,\n        \"max\": 0.06,\n        \"num_unique_values\": 4,\n        \"samples\": [\n          0.06,\n          0.045,\n          0.05\n        ],\n        \"semantic_type\": \"\",\n        \"description\": \"\"\n      }\n    },\n    {\n      \"column\": \"churn_rate\",\n      \"properties\": {\n        \"dtype\": \"number\",\n        \"std\": 0.017078251276599333,\n        \"min\": 0.09,\n        \"max\": 0.13,\n        \"num_unique_values\": 4,\n        \"samples\": [\n          0.09,\n          0.13,\n          0.1\n        ],\n        \"semantic_type\": \"\",\n        \"description\": \"\"\n      }\n    },\n    {\n      \"column\": \"revenue_change\",\n      \"properties\": {\n        \"dtype\": \"number\",\n        \"std\": 20.95620142945488,\n        \"min\": -21.739130434782606,\n        \"max\": 19.999999999999996,\n        \"num_unique_values\": 3,\n        \"samples\": [\n          19.999999999999996,\n          -4.1666666666666625,\n          -21.739130434782606\n        ],\n        \"semantic_type\": \"\",\n        \"description\": \"\"\n      }\n    },\n    {\n      \"column\": \"ctr_change\",\n      \"properties\": {\n        \"dtype\": \"number\",\n        \"std\": 19.82263719109222,\n        \"min\": -18.181818181818187,\n        \"max\": 19.999999999999996,\n        \"num_unique_values\": 3,\n        \"samples\": [\n          19.999999999999996,\n          -8.333333333333325,\n          -18.181818181818187\n        ],\n        \"semantic_type\": \"\",\n        \"description\": \"\"\n      }\n    },\n    {\n      \"column\": \"churn_rate_change\",\n      \"properties\": {\n        \"dtype\": \"number\",\n        \"std\": 17.553780911724996,\n        \"min\": -10.000000000000009,\n        \"max\": 22.222222222222232,\n        \"num_unique_values\": 3,\n        \"samples\": [\n          -10.000000000000009,\n          22.222222222222232,\n          18.181818181818187\n        ],\n        \"semantic_type\": \"\",\n        \"description\": \"\"\n      }\n    },\n    {\n      \"column\": \"revenue_alert\",\n      \"properties\": {\n        \"dtype\": \"string\",\n        \"num_unique_values\": 2,\n        \"samples\": [\n          \"ALERT: Revenue drop!\",\n          \"\"\n        ],\n        \"semantic_type\": \"\",\n        \"description\": \"\"\n      }\n    },\n    {\n      \"column\": \"ctr_alert\",\n      \"properties\": {\n        \"dtype\": \"string\",\n        \"num_unique_values\": 2,\n        \"samples\": [\n          \"ALERT: CTR drop!\",\n          \"\"\n        ],\n        \"semantic_type\": \"\",\n        \"description\": \"\"\n      }\n    },\n    {\n      \"column\": \"churn_alert\",\n      \"properties\": {\n        \"dtype\": \"string\",\n        \"num_unique_values\": 2,\n        \"samples\": [\n          \"ALERT: Churn rate increase!\",\n          \"\"\n        ],\n        \"semantic_type\": \"\",\n        \"description\": \"\"\n      }\n    }\n  ]\n}"
            }
          },
          "metadata": {},
          "execution_count": 245
        }
      ]
    },
    {
      "cell_type": "markdown",
      "source": [
        "<font color=\"darkblue\">This code offers a framework for monitoring changes in revenue, CTR, and churn rate, enabling you to detect potential issues and respond promptly. In the future, we can further develop this into an interactive web application for enhanced visualization.\n",
        "\n",
        "---\n",
        "\n"
      ],
      "metadata": {
        "id": "V7Lt0WrHu0rA"
      }
    },
    {
      "cell_type": "code",
      "source": [],
      "metadata": {
        "id": "wft9QgxZurQF"
      },
      "execution_count": null,
      "outputs": []
    }
  ],
  "metadata": {
    "colab": {
      "provenance": [],
      "toc_visible": true,
      "mount_file_id": "173rs92kz-sW9CHX6jvEPtu4VzvnldOu6",
      "authorship_tag": "ABX9TyPM0tNoOA6/oMBGKwddZ4U5",
      "include_colab_link": true
    },
    "kernelspec": {
      "display_name": "Python 3",
      "name": "python3"
    }
  },
  "nbformat": 4,
  "nbformat_minor": 0
}